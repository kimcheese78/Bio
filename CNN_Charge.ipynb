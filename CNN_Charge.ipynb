{
 "cells": [
  {
   "cell_type": "code",
   "execution_count": 1,
   "metadata": {},
   "outputs": [],
   "source": [
    "from __future__ import absolute_import, division, print_function\n",
    "\n",
    "import numpy as np\n",
    "import random\n",
    "from skimage import draw, io\n",
    "from skimage.draw import polygon\n",
    "from skimage.draw import polygon_perimeter\n",
    "from math import pi, acos\n",
    "import math\n",
    "from matplotlib import pyplot as plt\n",
    "%matplotlib inline\n",
    "\n",
    "from sklearn.metrics import roc_curve, auc, precision_recall_curve, average_precision_score, jaccard_similarity_score\n",
    "from sklearn.utils.fixes import signature\n",
    "from sklearn.utils import shuffle"
   ]
  },
  {
   "cell_type": "markdown",
   "metadata": {},
   "source": [
    "# Generation of Data"
   ]
  },
  {
   "cell_type": "markdown",
   "metadata": {},
   "source": [
    "### Some functions for Image Generation"
   ]
  },
  {
   "cell_type": "code",
   "execution_count": 2,
   "metadata": {},
   "outputs": [],
   "source": [
    "### Rotate a point 'X' by an angle 'angle' \n",
    "def rotation(X, angle):\n",
    "    X = np.asarray(X)\n",
    "    assert X.size == 2\n",
    "    rad = math.radians(angle)\n",
    "    return np.array((X[0]*math.cos(rad)+X[1]*math.sin(rad), -X[0]*math.sin(rad)+X[1]*math.cos(rad)))"
   ]
  },
  {
   "cell_type": "code",
   "execution_count": 3,
   "metadata": {},
   "outputs": [],
   "source": [
    "### Generate a rectangle\n",
    "def make_rectangle(width,height,dim,rotation_angle=0,input_data=1):\n",
    "    \"\"\"\n",
    "    return a rectangle centered at (half_dim,half_m) with the left upper vertex (x_left,y_upper)\n",
    "    if ratation_angle is not 0, then the rectangle is rotated by rotation_angle around the center\n",
    "    \"\"\"\n",
    "    # 함수의 변수가 적절한지 판단\n",
    "    half_dim = math.trunc(dim/2)\n",
    "#     assert width < half_dim and height < half_dim\n",
    "    \n",
    "    vertices = [rotation((math.trunc(height/2),math.trunc(width/2)),rotation_angle),\n",
    "                rotation((-math.trunc(height/2),math.trunc(width/2)),rotation_angle),\n",
    "                rotation((-math.trunc(height/2),-math.trunc(width/2)),rotation_angle),\n",
    "                rotation((math.trunc(height/2),-math.trunc(width/2)),rotation_angle)]\n",
    "                \n",
    "    \n",
    "    vertices = np.asarray(vertices) + dim / 2\n",
    "    \n",
    "    image = np.zeros((dim,dim))\n",
    "    rr, cc = draw.polygon(vertices[:,0], vertices[:,1]) \n",
    "    image[rr, cc] = input_data\n",
    "    \n",
    "    return image"
   ]
  },
  {
   "cell_type": "code",
   "execution_count": 4,
   "metadata": {},
   "outputs": [],
   "source": [
    "### Generate a perimeter(random mix of -1 and +1)\n",
    "def make_perimeter_random(width,height,dim,rotation_angle=0):\n",
    "    \n",
    "    half_dim = math.trunc(dim/2)\n",
    "    \n",
    "    vertices = [rotation((math.trunc(height/2),math.trunc(width/2)),rotation_angle),\n",
    "                rotation((-math.trunc(height/2),math.trunc(width/2)),rotation_angle),\n",
    "                rotation((-math.trunc(height/2),-math.trunc(width/2)),rotation_angle),\n",
    "                rotation((math.trunc(height/2),-math.trunc(width/2)),rotation_angle)]\n",
    "\n",
    "    vertices = np.asarray(vertices) + dim / 2\n",
    "    \n",
    "    image = np.zeros((dim,dim))\n",
    "    rr, cc = polygon_perimeter(vertices[:,0], vertices[:,1]) \n",
    "    image[rr, cc] = np.random.choice([-1,1], size = len(rr))\n",
    "    \n",
    "    return image"
   ]
  },
  {
   "cell_type": "markdown",
   "metadata": {},
   "source": [
    "### Set up the structure of the data"
   ]
  },
  {
   "cell_type": "code",
   "execution_count": 5,
   "metadata": {},
   "outputs": [],
   "source": [
    "dim = 50 # the width and height of the image\n",
    "half_dim = int(dim / 2)\n",
    "no_targets = 80  # the number of targets\n",
    "no_ligands = 1000  # the number of liands\n",
    "shapes = ['rec','tri','elli','star']\n",
    "no_shapes = len(shapes)\n",
    "Jaccard_cutoff = 0.5"
   ]
  },
  {
   "cell_type": "code",
   "execution_count": 6,
   "metadata": {},
   "outputs": [],
   "source": [
    "# Target & Ligand Images: image + identifier(1:target; 0:ligand)\n",
    "# np.zeros((Batch, Height, Width, Channel))\n",
    "images = np.zeros((no_ligands*no_targets,dim,dim*2,2),dtype='int8')\n",
    "results = np.zeros((no_ligands*no_targets,1),dtype='int8')\n",
    "target_heights = []\n",
    "ligand_heights_widths = []\n",
    "Jaccard_similarity_scores = ['mismatch']*(no_ligands*no_targets)"
   ]
  },
  {
   "cell_type": "code",
   "execution_count": 7,
   "metadata": {},
   "outputs": [],
   "source": [
    "# Target image generation \n",
    "for i in range(no_targets):\n",
    "    \n",
    "    # set target variables\n",
    "    target_width = random.randint(5, half_dim)\n",
    "    target_height = random.randint(5, half_dim)\n",
    "    target_rotation = 0 #random.randint(0, 90)\n",
    "    \n",
    "    # a channel representing structure(present=1 / absent=0)\n",
    "    images[i*no_ligands:(i+1)*no_ligands,:,:dim,0] = 1 - make_rectangle(target_width, target_height, dim, target_rotation)\n",
    "    images[i*no_ligands:(i+1)*no_ligands,:,half_dim:dim,0] = 0\n",
    "    \n",
    "    # a channel representing charge(positive=+1 /negative=-1)\n",
    "    # 1 added to width/height to expand to the edge\n",
    "    images[i*no_ligands:(i+1)*no_ligands,:,:dim,1] = make_perimeter_random(target_width+2, target_height+2, dim, target_rotation)\n",
    "    images[i*no_ligands:(i+1)*no_ligands,:,half_dim:dim,1] = 0\n",
    "    \n",
    "    # Ligand image generation\n",
    "    for j in range(no_ligands):    \n",
    "        \n",
    "        #set ligand variables\n",
    "        ligand_width = random.randint(5, half_dim)\n",
    "        ligand_height = random.randint(5, half_dim)\n",
    "        ligand_rotation = 0 #random.randint(0, 90)\n",
    "            \n",
    "        # a channel representing structure(present=1 / absent=0)\n",
    "        images[i*no_ligands+j:i*no_ligands+(j+1),:,dim:,0] = make_rectangle(ligand_width, ligand_height, dim, ligand_rotation)\n",
    "            \n",
    "        # a channel representing charge(positive=+1 /negative=-1)\n",
    "        images[i*no_ligands+j:i*no_ligands+(j+1),:,dim:,1] = make_perimeter_random(ligand_width, ligand_height, dim, ligand_rotation)\n",
    "        \n",
    "        # trim zero padding off target/ligand for easier comparison of the target/ligand pair\n",
    "        target_compress = images[i*no_ligands+j:i*no_ligands+(j+1),:,:dim,1][0]\n",
    "        target_compress_2 = target_compress[~np.all(target_compress == 0, axis=1)]\n",
    "        target_compress_3 = target_compress_2[:,~np.all(target_compress_2 == 0, axis=0)]\n",
    "        \n",
    "        ligand_compress = images[i*no_ligands+j:i*no_ligands+(j+1),:,dim:,1][0]\n",
    "        ligand_compress_2 = ligand_compress[~np.all(ligand_compress == 0, axis=1)]\n",
    "        ligand_compress_3 = ligand_compress_2[:,~np.all(ligand_compress_2 == 0, axis=0)]\n",
    "        \n",
    "        # Jaccard similarity score calculation(for each edge)\n",
    "        binding_site_concat = np.concatenate((target_compress_3[0,1:],target_compress_3[1:-1,0],target_compress_3[-1,1:]))\n",
    "        \n",
    "        edge_1 = ligand_compress_3[:,:(len(target_compress_3[0])-1)]\n",
    "        edge_1_concat = np.concatenate((edge_1[0,:],edge_1[:,0],edge_1[-1,:]))\n",
    "        \n",
    "        edge_2 = np.rot90(ligand_compress_3[:,-(len(target_compress_3[0])-1):],2)\n",
    "        edge_2_concat = np.concatenate((edge_2[0,:],edge_2[:,0],edge_2[-1,:]))\n",
    "        \n",
    "        edge_3 = np.rot90(ligand_compress_3[:(len(target_compress_3[0])-1),:],1)\n",
    "        edge_3_concat = np.concatenate((edge_3[0,:],edge_3[:,0],edge_3[-1,:]))\n",
    "        \n",
    "        edge_4 = np.rot90(ligand_compress_3[-(len(target_compress_3[0])-1):,:],3)\n",
    "        edge_4_concat = np.concatenate((edge_4[0,:],edge_4[:,0],edge_4[-1,:]))\n",
    "        \n",
    "        # active/inactive criteria\n",
    "        target_heights.append(len(target_compress_3[:,0])-2)\n",
    "        ligand_heights_widths.append([len(ligand_compress_3[:,0]), len(ligand_compress_3[0,:])])\n",
    "        \n",
    "        # label the activity of each Target and Ligand pair        \n",
    "        if len(target_compress_3[:,0])-2 == len(ligand_compress_3[:,0]):\n",
    "            if len(binding_site_concat) == len(edge_1_concat):\n",
    "                score_1 = jaccard_similarity_score(binding_site_concat, -edge_1_concat)\n",
    "                score_2 = jaccard_similarity_score(binding_site_concat, -edge_2_concat)\n",
    "                if score_1 > Jaccard_cutoff or score_2 > Jaccard_cutoff:\n",
    "                    results[i*no_ligands+j] = 1\n",
    "                    Jaccard_similarity_scores[i*no_ligands+j] = [score_1, score_2]\n",
    "                else:\n",
    "                    results[i*no_ligands+j] = 0\n",
    "                    Jaccard_similarity_scores[i*no_ligands+j] = [score_1, score_2]\n",
    "\n",
    "        if len(target_compress_3[:,0])-2 == len(ligand_compress_3[0,:]):\n",
    "            if len(binding_site_concat) == len(edge_3_concat):\n",
    "                score_3 = jaccard_similarity_score(binding_site_concat, -edge_3_concat)\n",
    "                score_4 = jaccard_similarity_score(binding_site_concat, -edge_4_concat)\n",
    "                if score_3 > Jaccard_cutoff or score_4 > Jaccard_cutoff:\n",
    "                    results[i*no_ligands+j] = 1\n",
    "                    Jaccard_similarity_scores[i*no_ligands+j] = [score_3, score_4]\n",
    "                else:\n",
    "                    results[i*no_ligands+j] = 0\n",
    "                    Jaccard_similarity_scores[i*no_ligands+j] = [score_3, score_4]\n",
    "                \n",
    "        else:\n",
    "            results[i*no_ligands+j] = 0"
   ]
  },
  {
   "cell_type": "code",
   "execution_count": 8,
   "metadata": {},
   "outputs": [
    {
     "data": {
      "text/plain": [
       "25"
      ]
     },
     "execution_count": 8,
     "metadata": {},
     "output_type": "execute_result"
    }
   ],
   "source": [
    "target_height"
   ]
  },
  {
   "cell_type": "code",
   "execution_count": 9,
   "metadata": {},
   "outputs": [
    {
     "data": {
      "text/plain": [
       "25"
      ]
     },
     "execution_count": 9,
     "metadata": {},
     "output_type": "execute_result"
    }
   ],
   "source": [
    "len(target_compress_3[:,0])-2"
   ]
  },
  {
   "cell_type": "code",
   "execution_count": 10,
   "metadata": {},
   "outputs": [
    {
     "data": {
      "text/plain": [
       "(15, 14)"
      ]
     },
     "execution_count": 10,
     "metadata": {},
     "output_type": "execute_result"
    }
   ],
   "source": [
    "ligand_width, ligand_height"
   ]
  },
  {
   "cell_type": "code",
   "execution_count": 11,
   "metadata": {},
   "outputs": [
    {
     "data": {
      "text/plain": [
       "15"
      ]
     },
     "execution_count": 11,
     "metadata": {},
     "output_type": "execute_result"
    }
   ],
   "source": [
    "len(ligand_compress_3[:,0])"
   ]
  },
  {
   "cell_type": "code",
   "execution_count": 12,
   "metadata": {},
   "outputs": [
    {
     "name": "stdout",
     "output_type": "stream",
     "text": [
      "Inactive: 75146\n",
      "Active: 4854\n"
     ]
    }
   ],
   "source": [
    "# no. of inactives, actives \n",
    "print(\"Inactive: \" + str(len(results) - results.sum()))\n",
    "print(\"Active: \" + str(results.sum()))"
   ]
  },
  {
   "cell_type": "code",
   "execution_count": 13,
   "metadata": {},
   "outputs": [
    {
     "data": {
      "text/plain": [
       "<matplotlib.image.AxesImage at 0x1cb354c1438>"
      ]
     },
     "execution_count": 13,
     "metadata": {},
     "output_type": "execute_result"
    },
    {
     "data": {
      "image/png": "[encoded data removed]",
      "text/plain": [
       "<Figure size 432x288 with 1 Axes>"
      ]
     },
     "metadata": {
      "needs_background": "light"
     },
     "output_type": "display_data"
    }
   ],
   "source": [
    "plt.imshow(images[18,:,:,0])"
   ]
  },
  {
   "cell_type": "code",
   "execution_count": 14,
   "metadata": {},
   "outputs": [
    {
     "data": {
      "text/plain": [
       "<matplotlib.image.AxesImage at 0x1cb36cc7828>"
      ]
     },
     "execution_count": 14,
     "metadata": {},
     "output_type": "execute_result"
    },
    {
     "data": {
      "image/png": "[encoded data removed]",
      "text/plain": [
       "<Figure size 432x288 with 1 Axes>"
      ]
     },
     "metadata": {
      "needs_background": "light"
     },
     "output_type": "display_data"
    }
   ],
   "source": [
    "plt.imshow(images[18,:,:,1], cmap='jet')"
   ]
  },
  {
   "cell_type": "code",
   "execution_count": 15,
   "metadata": {},
   "outputs": [
    {
     "data": {
      "text/plain": [
       "array([0], dtype=int8)"
      ]
     },
     "execution_count": 15,
     "metadata": {},
     "output_type": "execute_result"
    }
   ],
   "source": [
    "results[18]"
   ]
  },
  {
   "cell_type": "markdown",
   "metadata": {},
   "source": [
    "# Preparation for CNN"
   ]
  },
  {
   "cell_type": "code",
   "execution_count": 16,
   "metadata": {},
   "outputs": [
    {
     "name": "stdout",
     "output_type": "stream",
     "text": [
      "1.13.1\n"
     ]
    }
   ],
   "source": [
    "from __future__ import absolute_import, division, print_function\n",
    "\n",
    "# TensorFlow and tf.keras\n",
    "import tensorflow as tf\n",
    "from tensorflow import keras\n",
    "\n",
    "# Helper libraries\n",
    "import numpy as np\n",
    "import matplotlib.pyplot as plt\n",
    "print(tf.__version__)"
   ]
  },
  {
   "cell_type": "code",
   "execution_count": 17,
   "metadata": {},
   "outputs": [
    {
     "name": "stdout",
     "output_type": "stream",
     "text": [
      "result shape = (80000, 1)\n"
     ]
    }
   ],
   "source": [
    "images = images\n",
    "results = results\n",
    "target_criteria_size = target_heights\n",
    "ligand_criteria_size = ligand_heights_widths\n",
    "Jaccard_criteria = Jaccard_similarity_scores\n",
    "\n",
    "print(\"result shape = \" + str(results.shape))\n",
    "\n",
    "class_names = ['inactive','active']"
   ]
  },
  {
   "cell_type": "code",
   "execution_count": 18,
   "metadata": {},
   "outputs": [
    {
     "name": "stdout",
     "output_type": "stream",
     "text": [
      "train_images shape: (64000, 50, 100, 2)\n",
      "train_labels shape: (64000, 1)\n",
      "test_images shape: (16000, 50, 100, 2)\n",
      "test_labels shape: (16000, 1)\n"
     ]
    }
   ],
   "source": [
    "# Train set\n",
    "index_train_data = random.sample(range(0,no_ligands*no_targets),int(no_ligands*no_targets*0.8))\n",
    "train_images = np.asarray([images[i] for i in index_train_data])\n",
    "train_labels = np.asarray([results[i] for i in index_train_data])\n",
    "train_target_criteria_size = np.asarray([target_criteria_size[i] for i in index_train_data])\n",
    "train_ligand_criteria_size = np.asarray([ligand_criteria_size[i] for i in index_train_data])\n",
    "train_Jaccard_criteria = np.asarray([Jaccard_criteria[i] for i in index_train_data])\n",
    "\n",
    "# Test set\n",
    "index_test_data = list(set(range(no_ligands*no_targets)).difference(set(index_train_data)))\n",
    "test_images = np.asarray([images[i] for i in index_test_data])\n",
    "test_labels = np.asarray([results[i] for i in index_test_data])\n",
    "test_target_criteria_size = np.asarray([target_criteria_size[i] for i in index_test_data])\n",
    "test_ligand_criteria_size = np.asarray([ligand_criteria_size[i] for i in index_test_data])\n",
    "test_Jaccard_criteria = np.asarray([Jaccard_criteria[i] for i in index_test_data])\n",
    "                \n",
    "print(\"train_images shape: \" + str(train_images.shape))\n",
    "print(\"train_labels shape: \" + str(train_labels.shape))\n",
    "print(\"test_images shape: \" + str(test_images.shape))\n",
    "print(\"test_labels shape: \" + str(test_labels.shape))"
   ]
  },
  {
   "cell_type": "code",
   "execution_count": 19,
   "metadata": {},
   "outputs": [
    {
     "name": "stdout",
     "output_type": "stream",
     "text": [
      "WARNING:tensorflow:From C:\\Users\\hchoi76\\Envs\\ImageRecog\\lib\\site-packages\\tensorflow\\python\\ops\\resource_variable_ops.py:435: colocate_with (from tensorflow.python.framework.ops) is deprecated and will be removed in a future version.\n",
      "Instructions for updating:\n",
      "Colocations handled automatically by placer.\n",
      "_________________________________________________________________\n",
      "Layer (type)                 Output Shape              Param #   \n",
      "=================================================================\n",
      "conv2d (Conv2D)              (None, 46, 96, 128)       6528      \n",
      "_________________________________________________________________\n",
      "max_pooling2d (MaxPooling2D) (None, 23, 48, 128)       0         \n",
      "_________________________________________________________________\n",
      "conv2d_1 (Conv2D)            (None, 21, 46, 256)       295168    \n",
      "_________________________________________________________________\n",
      "max_pooling2d_1 (MaxPooling2 (None, 10, 23, 256)       0         \n",
      "_________________________________________________________________\n",
      "conv2d_2 (Conv2D)            (None, 8, 21, 256)        590080    \n",
      "_________________________________________________________________\n",
      "max_pooling2d_2 (MaxPooling2 (None, 7, 20, 256)        0         \n",
      "_________________________________________________________________\n",
      "conv2d_3 (Conv2D)            (None, 5, 18, 256)        590080    \n",
      "_________________________________________________________________\n",
      "max_pooling2d_3 (MaxPooling2 (None, 4, 17, 256)        0         \n",
      "_________________________________________________________________\n",
      "flatten (Flatten)            (None, 17408)             0         \n",
      "_________________________________________________________________\n",
      "dense (Dense)                (None, 1024)              17826816  \n",
      "_________________________________________________________________\n",
      "dense_1 (Dense)              (None, 1024)              1049600   \n",
      "_________________________________________________________________\n",
      "dense_2 (Dense)              (None, 2)                 2050      \n",
      "=================================================================\n",
      "Total params: 20,360,322\n",
      "Trainable params: 20,360,322\n",
      "Non-trainable params: 0\n",
      "_________________________________________________________________\n"
     ]
    }
   ],
   "source": [
    "model = keras.Sequential([\n",
    "    keras.layers.Conv2D(kernel_size=(5,5),filters = 128, input_shape=(dim, dim*2,2),activation='relu'),\n",
    "    keras.layers.MaxPooling2D(pool_size = (2,2), strides=(2,2)),\n",
    "    keras.layers.Conv2D(kernel_size=(3,3),filters = 256, activation='relu'),\n",
    "    keras.layers.MaxPooling2D(pool_size = (2,2), strides=(2,2)),\n",
    "    keras.layers.Conv2D(kernel_size=(3,3),filters = 256, activation='relu'),\n",
    "    keras.layers.MaxPooling2D(pool_size = (2,2), strides=(1,1)),\n",
    "    keras.layers.Conv2D(kernel_size=(3,3),filters = 256, activation='relu'),\n",
    "    keras.layers.MaxPooling2D(pool_size = (2,2), strides=(1,1)),\n",
    "    keras.layers.Flatten(),\n",
    "    keras.layers.Dense(1024,activation='relu'),\n",
    "    keras.layers.Dense(1024,activation='relu'),\n",
    "    keras.layers.Dense(2,activation='softmax',activity_regularizer=keras.regularizers.l2())\n",
    "])\n",
    "model.summary()"
   ]
  },
  {
   "cell_type": "code",
   "execution_count": 20,
   "metadata": {},
   "outputs": [
    {
     "name": "stdout",
     "output_type": "stream",
     "text": [
      "Epoch 1/20\n",
      "64000/64000 [==============================] - 30s 476us/sample - loss: 0.2325 - acc: 0.9382\n",
      "Epoch 2/20\n",
      "64000/64000 [==============================] - 29s 456us/sample - loss: 0.1055 - acc: 0.9537\n",
      "Epoch 3/20\n",
      "64000/64000 [==============================] - 29s 457us/sample - loss: 0.0679 - acc: 0.9729\n",
      "Epoch 4/20\n",
      "64000/64000 [==============================] - 29s 457us/sample - loss: 0.0659 - acc: 0.9737\n",
      "Epoch 5/20\n",
      "64000/64000 [==============================] - 29s 457us/sample - loss: 0.0623 - acc: 0.9765\n",
      "Epoch 6/20\n",
      "64000/64000 [==============================] - 29s 457us/sample - loss: 0.0590 - acc: 0.9780\n",
      "Epoch 7/20\n",
      "64000/64000 [==============================] - 29s 456us/sample - loss: 0.0686 - acc: 0.9734\n",
      "Epoch 8/20\n",
      "64000/64000 [==============================] - 29s 455us/sample - loss: 0.0604 - acc: 0.9771\n",
      "Epoch 9/20\n",
      "64000/64000 [==============================] - 29s 456us/sample - loss: 0.0602 - acc: 0.9771\n",
      "Epoch 10/20\n",
      "64000/64000 [==============================] - 29s 456us/sample - loss: 0.0578 - acc: 0.9783\n",
      "Epoch 11/20\n",
      "64000/64000 [==============================] - 29s 454us/sample - loss: 0.0579 - acc: 0.9784\n",
      "Epoch 12/20\n",
      "64000/64000 [==============================] - 29s 454us/sample - loss: 0.0590 - acc: 0.9779\n",
      "Epoch 13/20\n",
      "64000/64000 [==============================] - 29s 454us/sample - loss: 0.0595 - acc: 0.9777\n",
      "Epoch 14/20\n",
      "64000/64000 [==============================] - 29s 450us/sample - loss: 0.0562 - acc: 0.9794\n",
      "Epoch 15/20\n",
      "64000/64000 [==============================] - 29s 451us/sample - loss: 0.0655 - acc: 0.9734\n",
      "Epoch 16/20\n",
      "64000/64000 [==============================] - 29s 451us/sample - loss: 0.0595 - acc: 0.9773\n",
      "Epoch 17/20\n",
      "64000/64000 [==============================] - 29s 451us/sample - loss: 0.0642 - acc: 0.9741\n",
      "Epoch 18/20\n",
      "64000/64000 [==============================] - 29s 451us/sample - loss: 0.0600 - acc: 0.9769\n",
      "Epoch 19/20\n",
      "64000/64000 [==============================] - 29s 452us/sample - loss: 0.0559 - acc: 0.9796\n",
      "Epoch 20/20\n",
      "64000/64000 [==============================] - 29s 452us/sample - loss: 0.0565 - acc: 0.9792\n"
     ]
    },
    {
     "data": {
      "text/plain": [
       "<tensorflow.python.keras.callbacks.History at 0x1cb6226aeb8>"
      ]
     },
     "execution_count": 20,
     "metadata": {},
     "output_type": "execute_result"
    }
   ],
   "source": [
    "model.compile(optimizer='adam',\n",
    "              loss='sparse_categorical_crossentropy',\n",
    "              metrics=['accuracy'])\n",
    "\n",
    "model.fit(train_images, train_labels, batch_size=128, epochs=20)"
   ]
  },
  {
   "cell_type": "code",
   "execution_count": 21,
   "metadata": {},
   "outputs": [
    {
     "name": "stdout",
     "output_type": "stream",
     "text": [
      "16000/16000 [==============================] - 3s 208us/sample - loss: 0.0570 - acc: 0.9786\n",
      "Test accuracy: 0.978625\n"
     ]
    }
   ],
   "source": [
    "test_loss, test_acc = model.evaluate(test_images, test_labels)\n",
    "\n",
    "print('Test accuracy:', test_acc)"
   ]
  },
  {
   "cell_type": "markdown",
   "metadata": {},
   "source": [
    "# ROC AUC"
   ]
  },
  {
   "cell_type": "code",
   "execution_count": 22,
   "metadata": {},
   "outputs": [],
   "source": [
    "prediction_scores_test = model.predict(test_images)\n",
    "# Compute ROC curve and ROC area for each class\n",
    "fpr = dict()\n",
    "tpr = dict()\n",
    "roc_auc = dict()\n",
    "fpr, tpr, _ = roc_curve(1-test_labels, prediction_scores_test[:, 0])\n",
    "roc_auc = auc(fpr, tpr)"
   ]
  },
  {
   "cell_type": "code",
   "execution_count": 23,
   "metadata": {},
   "outputs": [
    {
     "data": {
      "image/png": "[encoded data removed]",
      "text/plain": [
       "<Figure size 432x288 with 1 Axes>"
      ]
     },
     "metadata": {
      "needs_background": "light"
     },
     "output_type": "display_data"
    }
   ],
   "source": [
    "plt.figure()\n",
    "lw = 2\n",
    "plt.plot(fpr, tpr, color='darkorange',\n",
    "         lw=lw, label='ROC curve (area = %0.2f)' % roc_auc)\n",
    "plt.plot([0, 1], [0, 1], color='navy', lw=lw, linestyle='--')\n",
    "plt.xlim([0.0, 1.0])\n",
    "plt.ylim([0.0, 1.05])\n",
    "plt.xlabel('False Positive Rate')\n",
    "plt.ylabel('True Positive Rate')\n",
    "plt.title('Receiver operating characteristic example')\n",
    "plt.legend(loc=\"lower right\")\n",
    "plt.show()"
   ]
  },
  {
   "cell_type": "markdown",
   "metadata": {},
   "source": [
    "# PR"
   ]
  },
  {
   "cell_type": "code",
   "execution_count": 24,
   "metadata": {},
   "outputs": [],
   "source": [
    "# Compute PR curve and AP for each class\n",
    "precision = dict()\n",
    "recall = dict()\n",
    "average_precision = dict()\n",
    "precision, recall, _ = precision_recall_curve(1-test_labels, prediction_scores_test[:, 0])\n",
    "average_precision = average_precision_score(1-test_labels, prediction_scores_test[:, 0])"
   ]
  },
  {
   "cell_type": "code",
   "execution_count": 25,
   "metadata": {},
   "outputs": [
    {
     "data": {
      "image/png": "[encoded data removed]",
      "text/plain": [
       "<Figure size 432x288 with 1 Axes>"
      ]
     },
     "metadata": {
      "needs_background": "light"
     },
     "output_type": "display_data"
    }
   ],
   "source": [
    "step_kwargs = ({'step': 'post'}\n",
    "               if 'step' in signature(plt.fill_between).parameters\n",
    "               else {})\n",
    "#plt.figure(figsize=(10,10))\n",
    "lw = 2\n",
    "plt.plot(recall, precision,'-',color='darkorange',label='PR curve (avg prec = %0.2f)' % average_precision)\n",
    "#plt.step(recall[2], precision[2],color='darkorange',where='post',\n",
    "#         label='PR curve (avg prec = %0.2f)' % average_precision[2])\n",
    "plt.fill_between(recall, precision, alpha=0.2, color='darkorange')\n",
    "plt.xlim([0.0, 1.0])\n",
    "plt.ylim([0.0, 1.05])\n",
    "plt.xlabel('Recall')\n",
    "plt.ylabel('Precision')\n",
    "plt.title('Precision-Recall Curve example')\n",
    "plt.legend(loc=\"lower right\")\n",
    "plt.show()"
   ]
  },
  {
   "cell_type": "markdown",
   "metadata": {},
   "source": [
    "# Incorrect Predictions on train set"
   ]
  },
  {
   "cell_type": "code",
   "execution_count": 26,
   "metadata": {},
   "outputs": [],
   "source": [
    "# Predictions_train = model.predict_classes(train_images)"
   ]
  },
  {
   "cell_type": "code",
   "execution_count": 27,
   "metadata": {},
   "outputs": [],
   "source": [
    "# indices_incorrect_predictions_in_train = [i for i, x in enumerate(list(Predictions_train == train_labels.reshape(len(train_labels)))) if x == False ]\n",
    "# print(\"Total Number of Incorrect Predictions among Train data : \", len(indices_incorrect_predictions_in_train))"
   ]
  },
  {
   "cell_type": "code",
   "execution_count": 28,
   "metadata": {},
   "outputs": [],
   "source": [
    "# for k, idx in enumerate(indices_incorrect_predictions_in_train):\n",
    "#     fig, (ax0, ax1) = plt.subplots(1,2, figsize =(10,10))\n",
    "#     ax0.imshow(train_images[idx,:,:,0])\n",
    "#     ax1.imshow(train_images[idx,:,:,1], cmap='jet')\n",
    "#     plt.show()\n",
    "#     print('Real Label : ', train_labels[idx])\n",
    "#     print('Predicted Label : ', Predictions_train[idx])\n",
    "# #     print('Target Criteria : ', train_target_criteria[idx])\n",
    "# #     print('Ligand Criteria : ', train_ligand_criteria[idx])\n",
    "# #     print('Ligand Criteria : ', train_Jaccard_criteria[idx])\n",
    "#     if k > 30:\n",
    "#         break"
   ]
  },
  {
   "cell_type": "code",
   "execution_count": 29,
   "metadata": {},
   "outputs": [],
   "source": [
    "# Incorrect Predictions on test set"
   ]
  },
  {
   "cell_type": "code",
   "execution_count": 30,
   "metadata": {},
   "outputs": [],
   "source": [
    "Predictions_test = model.predict_classes(test_images)"
   ]
  },
  {
   "cell_type": "code",
   "execution_count": 31,
   "metadata": {},
   "outputs": [
    {
     "name": "stdout",
     "output_type": "stream",
     "text": [
      "Total Number of Incorrect Predictions among Test data :  342\n"
     ]
    }
   ],
   "source": [
    "indices_incorrect_predictions_in_test = [i for i, x in enumerate(list(Predictions_test == test_labels.reshape(len(test_labels)))) if x == False ]\n",
    "print(\"Total Number of Incorrect Predictions among Test data : \", len(indices_incorrect_predictions_in_test))"
   ]
  },
  {
   "cell_type": "code",
   "execution_count": 32,
   "metadata": {},
   "outputs": [
    {
     "data": {
      "image/png": "[encoded data removed]",
      "text/plain": [
       "<Figure size 720x720 with 2 Axes>"
      ]
     },
     "metadata": {
      "needs_background": "light"
     },
     "output_type": "display_data"
    },
    {
     "name": "stdout",
     "output_type": "stream",
     "text": [
      "Real Label :  [0]\n",
      "Predicted Label :  1\n",
      "Target Criteria_size :  7\n",
      "Ligand Criteria_size :  [17  7]\n",
      "Jaccard_Similarity_Score :  [0.4666666666666667, 0.4]\n"
     ]
    },
    {
     "data": {
      "image/png": "[encoded data removed]",
      "text/plain": [
       "<Figure size 720x720 with 2 Axes>"
      ]
     },
     "metadata": {
      "needs_background": "light"
     },
     "output_type": "display_data"
    },
    {
     "name": "stdout",
     "output_type": "stream",
     "text": [
      "Real Label :  [0]\n",
      "Predicted Label :  1\n",
      "Target Criteria_size :  9\n",
      "Ligand Criteria_size :  [11  9]\n",
      "Jaccard_Similarity_Score :  mismatch\n"
     ]
    },
    {
     "data": {
      "image/png": "[encoded data removed]",
      "text/plain": [
       "<Figure size 720x720 with 2 Axes>"
      ]
     },
     "metadata": {
      "needs_background": "light"
     },
     "output_type": "display_data"
    },
    {
     "name": "stdout",
     "output_type": "stream",
     "text": [
      "Real Label :  [0]\n",
      "Predicted Label :  1\n",
      "Target Criteria_size :  23\n",
      "Ligand Criteria_size :  [15 23]\n",
      "Jaccard_Similarity_Score :  [0.48936170212765956, 0.425531914893617]\n"
     ]
    },
    {
     "data": {
      "image/png": "[encoded data removed]",
      "text/plain": [
       "<Figure size 720x720 with 2 Axes>"
      ]
     },
     "metadata": {
      "needs_background": "light"
     },
     "output_type": "display_data"
    },
    {
     "name": "stdout",
     "output_type": "stream",
     "text": [
      "Real Label :  [0]\n",
      "Predicted Label :  1\n",
      "Target Criteria_size :  23\n",
      "Ligand Criteria_size :  [13 23]\n",
      "Jaccard_Similarity_Score :  [0.44680851063829785, 0.46808510638297873]\n"
     ]
    },
    {
     "data": {
      "image/png": "[encoded data removed]",
      "text/plain": [
       "<Figure size 720x720 with 2 Axes>"
      ]
     },
     "metadata": {
      "needs_background": "light"
     },
     "output_type": "display_data"
    },
    {
     "name": "stdout",
     "output_type": "stream",
     "text": [
      "Real Label :  [0]\n",
      "Predicted Label :  1\n",
      "Target Criteria_size :  23\n",
      "Ligand Criteria_size :  [13 23]\n",
      "Jaccard_Similarity_Score :  [0.44680851063829785, 0.44680851063829785]\n"
     ]
    },
    {
     "data": {
      "image/png": "[encoded data removed]",
      "text/plain": [
       "<Figure size 720x720 with 2 Axes>"
      ]
     },
     "metadata": {
      "needs_background": "light"
     },
     "output_type": "display_data"
    },
    {
     "name": "stdout",
     "output_type": "stream",
     "text": [
      "Real Label :  [0]\n",
      "Predicted Label :  1\n",
      "Target Criteria_size :  11\n",
      "Ligand Criteria_size :  [11 11]\n",
      "Jaccard_Similarity_Score :  mismatch\n"
     ]
    },
    {
     "data": {
      "image/png": "[encoded data removed]",
      "text/plain": [
       "<Figure size 720x720 with 2 Axes>"
      ]
     },
     "metadata": {
      "needs_background": "light"
     },
     "output_type": "display_data"
    },
    {
     "name": "stdout",
     "output_type": "stream",
     "text": [
      "Real Label :  [0]\n",
      "Predicted Label :  1\n",
      "Target Criteria_size :  11\n",
      "Ligand Criteria_size :  [25 11]\n",
      "Jaccard_Similarity_Score :  [0.42857142857142855, 0.4857142857142857]\n"
     ]
    },
    {
     "data": {
      "image/png": "[encoded data removed]",
      "text/plain": [
       "<Figure size 720x720 with 2 Axes>"
      ]
     },
     "metadata": {
      "needs_background": "light"
     },
     "output_type": "display_data"
    },
    {
     "name": "stdout",
     "output_type": "stream",
     "text": [
      "Real Label :  [0]\n",
      "Predicted Label :  1\n",
      "Target Criteria_size :  13\n",
      "Ligand Criteria_size :  [ 9 13]\n",
      "Jaccard_Similarity_Score :  [0.4782608695652174, 0.4782608695652174]\n"
     ]
    },
    {
     "data": {
      "image/png": "[encoded data removed]",
      "text/plain": [
       "<Figure size 720x720 with 2 Axes>"
      ]
     },
     "metadata": {
      "needs_background": "light"
     },
     "output_type": "display_data"
    },
    {
     "name": "stdout",
     "output_type": "stream",
     "text": [
      "Real Label :  [0]\n",
      "Predicted Label :  1\n",
      "Target Criteria_size :  13\n",
      "Ligand Criteria_size :  [ 5 13]\n",
      "Jaccard_Similarity_Score :  [0.34782608695652173, 0.391304347826087]\n"
     ]
    },
    {
     "data": {
      "image/png": "[encoded data removed]",
      "text/plain": [
       "<Figure size 720x720 with 2 Axes>"
      ]
     },
     "metadata": {
      "needs_background": "light"
     },
     "output_type": "display_data"
    },
    {
     "name": "stdout",
     "output_type": "stream",
     "text": [
      "Real Label :  [0]\n",
      "Predicted Label :  1\n",
      "Target Criteria_size :  11\n",
      "Ligand Criteria_size :  [13 11]\n",
      "Jaccard_Similarity_Score :  [0.4, 0.4857142857142857]\n"
     ]
    },
    {
     "data": {
      "image/png": "[encoded data removed]",
      "text/plain": [
       "<Figure size 720x720 with 2 Axes>"
      ]
     },
     "metadata": {
      "needs_background": "light"
     },
     "output_type": "display_data"
    },
    {
     "name": "stdout",
     "output_type": "stream",
     "text": [
      "Real Label :  [0]\n",
      "Predicted Label :  1\n",
      "Target Criteria_size :  11\n",
      "Ligand Criteria_size :  [11 11]\n",
      "Jaccard_Similarity_Score :  mismatch\n"
     ]
    },
    {
     "data": {
      "image/png": "[encoded data removed]",
      "text/plain": [
       "<Figure size 720x720 with 2 Axes>"
      ]
     },
     "metadata": {
      "needs_background": "light"
     },
     "output_type": "display_data"
    },
    {
     "name": "stdout",
     "output_type": "stream",
     "text": [
      "Real Label :  [0]\n",
      "Predicted Label :  1\n",
      "Target Criteria_size :  11\n",
      "Ligand Criteria_size :  [11 11]\n",
      "Jaccard_Similarity_Score :  mismatch\n"
     ]
    },
    {
     "data": {
      "image/png": "[encoded data removed]",
      "text/plain": [
       "<Figure size 720x720 with 2 Axes>"
      ]
     },
     "metadata": {
      "needs_background": "light"
     },
     "output_type": "display_data"
    },
    {
     "name": "stdout",
     "output_type": "stream",
     "text": [
      "Real Label :  [0]\n",
      "Predicted Label :  1\n",
      "Target Criteria_size :  11\n",
      "Ligand Criteria_size :  [11 11]\n",
      "Jaccard_Similarity_Score :  mismatch\n"
     ]
    },
    {
     "data": {
      "image/png": "[encoded data removed]",
      "text/plain": [
       "<Figure size 720x720 with 2 Axes>"
      ]
     },
     "metadata": {
      "needs_background": "light"
     },
     "output_type": "display_data"
    },
    {
     "name": "stdout",
     "output_type": "stream",
     "text": [
      "Real Label :  [0]\n",
      "Predicted Label :  1\n",
      "Target Criteria_size :  13\n",
      "Ligand Criteria_size :  [21 13]\n",
      "Jaccard_Similarity_Score :  [0.391304347826087, 0.43478260869565216]\n"
     ]
    },
    {
     "data": {
      "image/png": "[encoded data removed]",
      "text/plain": [
       "<Figure size 720x720 with 2 Axes>"
      ]
     },
     "metadata": {
      "needs_background": "light"
     },
     "output_type": "display_data"
    },
    {
     "name": "stdout",
     "output_type": "stream",
     "text": [
      "Real Label :  [0]\n",
      "Predicted Label :  1\n",
      "Target Criteria_size :  7\n",
      "Ligand Criteria_size :  [9 7]\n",
      "Jaccard_Similarity_Score :  mismatch\n"
     ]
    },
    {
     "data": {
      "image/png": "[encoded data removed]",
      "text/plain": [
       "<Figure size 720x720 with 2 Axes>"
      ]
     },
     "metadata": {
      "needs_background": "light"
     },
     "output_type": "display_data"
    },
    {
     "name": "stdout",
     "output_type": "stream",
     "text": [
      "Real Label :  [0]\n",
      "Predicted Label :  1\n",
      "Target Criteria_size :  13\n",
      "Ligand Criteria_size :  [ 9 13]\n",
      "Jaccard_Similarity_Score :  [0.43478260869565216, 0.4782608695652174]\n"
     ]
    },
    {
     "data": {
      "image/png": "[encoded data removed]",
      "text/plain": [
       "<Figure size 720x720 with 2 Axes>"
      ]
     },
     "metadata": {
      "needs_background": "light"
     },
     "output_type": "display_data"
    },
    {
     "name": "stdout",
     "output_type": "stream",
     "text": [
      "Real Label :  [0]\n",
      "Predicted Label :  1\n",
      "Target Criteria_size :  13\n",
      "Ligand Criteria_size :  [ 9 13]\n",
      "Jaccard_Similarity_Score :  [0.391304347826087, 0.34782608695652173]\n"
     ]
    },
    {
     "data": {
      "image/png": "[encoded data removed]",
      "text/plain": [
       "<Figure size 720x720 with 2 Axes>"
      ]
     },
     "metadata": {
      "needs_background": "light"
     },
     "output_type": "display_data"
    },
    {
     "name": "stdout",
     "output_type": "stream",
     "text": [
      "Real Label :  [0]\n",
      "Predicted Label :  1\n",
      "Target Criteria_size :  13\n",
      "Ligand Criteria_size :  [ 9 13]\n",
      "Jaccard_Similarity_Score :  [0.43478260869565216, 0.391304347826087]\n"
     ]
    },
    {
     "data": {
      "image/png": "[encoded data removed]",
      "text/plain": [
       "<Figure size 720x720 with 2 Axes>"
      ]
     },
     "metadata": {
      "needs_background": "light"
     },
     "output_type": "display_data"
    },
    {
     "name": "stdout",
     "output_type": "stream",
     "text": [
      "Real Label :  [0]\n",
      "Predicted Label :  1\n",
      "Target Criteria_size :  13\n",
      "Ligand Criteria_size :  [11 13]\n",
      "Jaccard_Similarity_Score :  [0.34782608695652173, 0.4782608695652174]\n"
     ]
    },
    {
     "data": {
      "image/png": "[encoded data removed]",
      "text/plain": [
       "<Figure size 720x720 with 2 Axes>"
      ]
     },
     "metadata": {
      "needs_background": "light"
     },
     "output_type": "display_data"
    },
    {
     "name": "stdout",
     "output_type": "stream",
     "text": [
      "Real Label :  [0]\n",
      "Predicted Label :  1\n",
      "Target Criteria_size :  23\n",
      "Ligand Criteria_size :  [23 23]\n",
      "Jaccard_Similarity_Score :  [0.2727272727272727, 0.42424242424242425]\n"
     ]
    },
    {
     "data": {
      "image/png": "[encoded data removed]",
      "text/plain": [
       "<Figure size 720x720 with 2 Axes>"
      ]
     },
     "metadata": {
      "needs_background": "light"
     },
     "output_type": "display_data"
    },
    {
     "name": "stdout",
     "output_type": "stream",
     "text": [
      "Real Label :  [0]\n",
      "Predicted Label :  1\n",
      "Target Criteria_size :  9\n",
      "Ligand Criteria_size :  [17  9]\n",
      "Jaccard_Similarity_Score :  [0.30434782608695654, 0.4782608695652174]\n"
     ]
    },
    {
     "data": {
      "image/png": "[encoded data removed]",
      "text/plain": [
       "<Figure size 720x720 with 2 Axes>"
      ]
     },
     "metadata": {
      "needs_background": "light"
     },
     "output_type": "display_data"
    },
    {
     "name": "stdout",
     "output_type": "stream",
     "text": [
      "Real Label :  [0]\n",
      "Predicted Label :  1\n",
      "Target Criteria_size :  23\n",
      "Ligand Criteria_size :  [15 23]\n",
      "Jaccard_Similarity_Score :  [0.45454545454545453, 0.45454545454545453]\n"
     ]
    },
    {
     "data": {
      "image/png": "[encoded data removed]",
      "text/plain": [
       "<Figure size 720x720 with 2 Axes>"
      ]
     },
     "metadata": {
      "needs_background": "light"
     },
     "output_type": "display_data"
    },
    {
     "name": "stdout",
     "output_type": "stream",
     "text": [
      "Real Label :  [0]\n",
      "Predicted Label :  1\n",
      "Target Criteria_size :  7\n",
      "Ligand Criteria_size :  [9 7]\n",
      "Jaccard_Similarity_Score :  mismatch\n"
     ]
    },
    {
     "data": {
      "image/png": "[encoded data removed]",
      "text/plain": [
       "<Figure size 720x720 with 2 Axes>"
      ]
     },
     "metadata": {
      "needs_background": "light"
     },
     "output_type": "display_data"
    },
    {
     "name": "stdout",
     "output_type": "stream",
     "text": [
      "Real Label :  [0]\n",
      "Predicted Label :  1\n",
      "Target Criteria_size :  23\n",
      "Ligand Criteria_size :  [ 9 23]\n",
      "Jaccard_Similarity_Score :  [0.45454545454545453, 0.45454545454545453]\n"
     ]
    },
    {
     "data": {
      "image/png": "[encoded data removed]",
      "text/plain": [
       "<Figure size 720x720 with 2 Axes>"
      ]
     },
     "metadata": {
      "needs_background": "light"
     },
     "output_type": "display_data"
    },
    {
     "name": "stdout",
     "output_type": "stream",
     "text": [
      "Real Label :  [0]\n",
      "Predicted Label :  1\n",
      "Target Criteria_size :  7\n",
      "Ligand Criteria_size :  [21  7]\n",
      "Jaccard_Similarity_Score :  [0.4827586206896552, 0.3793103448275862]\n"
     ]
    },
    {
     "data": {
      "image/png": "[encoded data removed]",
      "text/plain": [
       "<Figure size 720x720 with 2 Axes>"
      ]
     },
     "metadata": {
      "needs_background": "light"
     },
     "output_type": "display_data"
    },
    {
     "name": "stdout",
     "output_type": "stream",
     "text": [
      "Real Label :  [0]\n",
      "Predicted Label :  1\n",
      "Target Criteria_size :  23\n",
      "Ligand Criteria_size :  [13 23]\n",
      "Jaccard_Similarity_Score :  [0.4666666666666667, 0.4666666666666667]\n"
     ]
    },
    {
     "data": {
      "image/png": "[encoded data removed]",
      "text/plain": [
       "<Figure size 720x720 with 2 Axes>"
      ]
     },
     "metadata": {
      "needs_background": "light"
     },
     "output_type": "display_data"
    },
    {
     "name": "stdout",
     "output_type": "stream",
     "text": [
      "Real Label :  [0]\n",
      "Predicted Label :  1\n",
      "Target Criteria_size :  23\n",
      "Ligand Criteria_size :  [11 23]\n",
      "Jaccard_Similarity_Score :  [0.4888888888888889, 0.35555555555555557]\n"
     ]
    },
    {
     "data": {
      "image/png": "[encoded data removed]",
      "text/plain": [
       "<Figure size 720x720 with 2 Axes>"
      ]
     },
     "metadata": {
      "needs_background": "light"
     },
     "output_type": "display_data"
    },
    {
     "name": "stdout",
     "output_type": "stream",
     "text": [
      "Real Label :  [0]\n",
      "Predicted Label :  1\n",
      "Target Criteria_size :  9\n",
      "Ligand Criteria_size :  [13  9]\n",
      "Jaccard_Similarity_Score :  [0.43478260869565216, 0.43478260869565216]\n"
     ]
    },
    {
     "data": {
      "image/png": "[encoded data removed]",
      "text/plain": [
       "<Figure size 720x720 with 2 Axes>"
      ]
     },
     "metadata": {
      "needs_background": "light"
     },
     "output_type": "display_data"
    },
    {
     "name": "stdout",
     "output_type": "stream",
     "text": [
      "Real Label :  [0]\n",
      "Predicted Label :  1\n",
      "Target Criteria_size :  23\n",
      "Ligand Criteria_size :  [21 23]\n",
      "Jaccard_Similarity_Score :  [0.4666666666666667, 0.4]\n"
     ]
    },
    {
     "data": {
      "image/png": "[encoded data removed]",
      "text/plain": [
       "<Figure size 720x720 with 2 Axes>"
      ]
     },
     "metadata": {
      "needs_background": "light"
     },
     "output_type": "display_data"
    },
    {
     "name": "stdout",
     "output_type": "stream",
     "text": [
      "Real Label :  [0]\n",
      "Predicted Label :  1\n",
      "Target Criteria_size :  23\n",
      "Ligand Criteria_size :  [15 23]\n",
      "Jaccard_Similarity_Score :  [0.4666666666666667, 0.4222222222222222]\n"
     ]
    },
    {
     "data": {
      "image/png": "[encoded data removed]",
      "text/plain": [
       "<Figure size 720x720 with 2 Axes>"
      ]
     },
     "metadata": {
      "needs_background": "light"
     },
     "output_type": "display_data"
    },
    {
     "name": "stdout",
     "output_type": "stream",
     "text": [
      "Real Label :  [0]\n",
      "Predicted Label :  1\n",
      "Target Criteria_size :  23\n",
      "Ligand Criteria_size :  [15 23]\n",
      "Jaccard_Similarity_Score :  [0.4444444444444444, 0.4666666666666667]\n"
     ]
    },
    {
     "data": {
      "image/png": "[encoded data removed]",
      "text/plain": [
       "<Figure size 720x720 with 2 Axes>"
      ]
     },
     "metadata": {
      "needs_background": "light"
     },
     "output_type": "display_data"
    },
    {
     "name": "stdout",
     "output_type": "stream",
     "text": [
      "Real Label :  [0]\n",
      "Predicted Label :  1\n",
      "Target Criteria_size :  9\n",
      "Ligand Criteria_size :  [23  9]\n",
      "Jaccard_Similarity_Score :  [0.30434782608695654, 0.43478260869565216]\n"
     ]
    }
   ],
   "source": [
    "for k, idx in enumerate(indices_incorrect_predictions_in_test):\n",
    "    fig, (ax0, ax1) = plt.subplots(1,2,figsize =(10,10))\n",
    "    ax0.imshow(test_images[idx,:,:,0])\n",
    "    ax1.imshow(test_images[idx,:,:,1], cmap='jet')\n",
    "    plt.show()\n",
    "    print('Real Label : ', test_labels[idx])\n",
    "    print('Predicted Label : ', Predictions_test[idx])\n",
    "    print('Target Criteria_size : ', test_target_criteria_size[idx])\n",
    "    print('Ligand Criteria_size : ', test_ligand_criteria_size[idx])\n",
    "    print('Jaccard_Similarity_Score : ', test_Jaccard_criteria[idx])\n",
    "    if k > 30:\n",
    "        break"
   ]
  },
  {
   "cell_type": "code",
   "execution_count": null,
   "metadata": {},
   "outputs": [],
   "source": [
    "\n"
   ]
  },
  {
   "cell_type": "code",
   "execution_count": null,
   "metadata": {},
   "outputs": [],
   "source": []
  },
  {
   "cell_type": "code",
   "execution_count": null,
   "metadata": {},
   "outputs": [],
   "source": []
  }
 ],
 "metadata": {
  "kernelspec": {
   "display_name": "Python 3",
   "language": "python",
   "name": "python3"
  },
  "language_info": {
   "codemirror_mode": {
    "name": "ipython",
    "version": 3
   },
   "file_extension": ".py",
   "mimetype": "text/x-python",
   "name": "python",
   "nbconvert_exporter": "python",
   "pygments_lexer": "ipython3",
   "version": "3.6.5"
  }
 },
 "nbformat": 4,
 "nbformat_minor": 2
}
