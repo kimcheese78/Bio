{
 "cells": [
  {
   "cell_type": "code",
   "execution_count": 1,
   "metadata": {},
   "outputs": [
    {
     "ename": "ModuleNotFoundError",
     "evalue": "No module named 'skimage'",
     "output_type": "error",
     "traceback": [
      "\u001b[1;31m---------------------------------------------------------------------------\u001b[0m",
      "\u001b[1;31mModuleNotFoundError\u001b[0m                       Traceback (most recent call last)",
      "\u001b[1;32m<ipython-input-1-deb39ef6c0c6>\u001b[0m in \u001b[0;36m<module>\u001b[1;34m\u001b[0m\n\u001b[0;32m      1\u001b[0m \u001b[1;32mimport\u001b[0m \u001b[0mnumpy\u001b[0m \u001b[1;32mas\u001b[0m \u001b[0mnp\u001b[0m\u001b[1;33m\u001b[0m\u001b[0m\n\u001b[0;32m      2\u001b[0m \u001b[1;32mimport\u001b[0m \u001b[0mrandom\u001b[0m\u001b[1;33m\u001b[0m\u001b[0m\n\u001b[1;32m----> 3\u001b[1;33m \u001b[1;32mfrom\u001b[0m \u001b[0mskimage\u001b[0m \u001b[1;32mimport\u001b[0m \u001b[0mdraw\u001b[0m\u001b[1;33m,\u001b[0m \u001b[0mio\u001b[0m\u001b[1;33m\u001b[0m\u001b[0m\n\u001b[0m\u001b[0;32m      4\u001b[0m \u001b[1;32mfrom\u001b[0m \u001b[0mskimage\u001b[0m\u001b[1;33m.\u001b[0m\u001b[0mdraw\u001b[0m \u001b[1;32mimport\u001b[0m \u001b[0mpolygon\u001b[0m\u001b[1;33m\u001b[0m\u001b[0m\n\u001b[0;32m      5\u001b[0m \u001b[1;32mfrom\u001b[0m \u001b[0mmath\u001b[0m \u001b[1;32mimport\u001b[0m \u001b[0mpi\u001b[0m\u001b[1;33m,\u001b[0m \u001b[0macos\u001b[0m\u001b[1;33m\u001b[0m\u001b[0m\n",
      "\u001b[1;31mModuleNotFoundError\u001b[0m: No module named 'skimage'"
     ]
    }
   ],
   "source": [
    "import numpy as np\n",
    "import random\n",
    "from skimage import draw, io\n",
    "from skimage.draw import polygon\n",
    "from math import pi, acos\n",
    "\n",
    "from sklearn.metrics import roc_curve, auc, precision_recall_curve, average_precision_score\n",
    "from sklearn.utils.fixes import signature"
   ]
  },
  {
   "cell_type": "markdown",
   "metadata": {},
   "source": [
    "## Target"
   ]
  },
  {
   "cell_type": "code",
   "execution_count": null,
   "metadata": {},
   "outputs": [],
   "source": [
    "dim = 50  # the width and height of the image\n",
    "half_dim = int(dim / 2)\n",
    "no_targets = 10  # the number of targets\n",
    "no_ligands = 100  # the number of ligands\n",
    "no_shapes = 4"
   ]
  },
  {
   "cell_type": "code",
   "execution_count": null,
   "metadata": {},
   "outputs": [],
   "source": [
    "# Target & Ligand Images: image + identifier(1:target; 0:ligand)\n",
    "images = np.zeros((no_ligands*no_targets,dim,dim*2,1),dtype='int8')"
   ]
  },
  {
   "cell_type": "code",
   "execution_count": null,
   "metadata": {},
   "outputs": [],
   "source": [
    "results = np.zeros((no_ligands*no_targets,1),dtype='int8')"
   ]
  },
  {
   "cell_type": "code",
   "execution_count": null,
   "metadata": {},
   "outputs": [],
   "source": [
    "# Generation of Rectangular Images\n",
    "for i in range(no_targets):\n",
    "    # generate each target image\n",
    "    target_rec = np.concatenate((np.zeros((dim, half_dim)), np.ones((dim, half_dim))), axis=1)\n",
    "    x_target = random.randint(0, half_dim)\n",
    "    y1_target = random.randint(0, half_dim)\n",
    "    y2_target = random.randint(y1_target + 5, dim)\n",
    "    target_rec[y1_target:y2_target, x_target:half_dim] = 1\n",
    "    \n",
    "    images[i*no_ligands:(i+1)*no_ligands,:,:dim,0] = target_rec\n",
    "    \n",
    "    # generate rectangular ligands \n",
    "    for j in range(0, no_ligands//no_shapes):\n",
    "        ligand_rec = np.ones((dim, dim))\n",
    "        x1_ligand = random.randint(0, half_dim)\n",
    "        x2_ligand = random.randint(x1_ligand + 5, dim)\n",
    "        y1_ligand = random.randint(0, half_dim)\n",
    "        y2_ligand = random.randint(y1_ligand + 5, dim)\n",
    "        ligand_rec[y1_ligand:y2_ligand, x1_ligand:(x1_ligand+x2_ligand)//2] = 0\n",
    "\n",
    "        images[i*no_ligands+j, :,dim:,0] = ligand_rec\n",
    "        \n",
    "        # put labels on the rectangular ligands\n",
    "        results[i*no_ligands+j] = 1\n",
    "\n",
    "    # generate triangular ligands \n",
    "    for k in range(no_ligands//no_shapes, no_ligands):\n",
    "        ligand_tri = np.ones((dim,dim))\n",
    "        r1,r2,r3 = [random.randrange(int(dim*(1/2)), dim), random.randrange(0, int(dim*(1/2))), random.randrange(int(dim*(1/2)), dim)]\n",
    "        c1,c2,c3 = [random.randrange(0, int(dim*(1/3))), random.randrange(int(dim*(1/3)),int(dim*(2/3))), random.randrange(int(dim*(2/3)),dim) ]\n",
    "        r = r1,r2,r3,r1\n",
    "        c = c1,c2,c3,c1\n",
    "        rr, cc = polygon(r, c)\n",
    "        ligand_tri[rr, cc] = 0\n",
    "        \n",
    "        images[i*no_ligands+k, :,dim:,0] = ligand_tri\n",
    "\n",
    "        # put labels on the rectangular ligands\n",
    "        results[i*no_ligands+k] = 0\n",
    "        \n",
    "    # generate circle ligands \n",
    "\n",
    "    # generate star ligands \n",
    "        \n",
    "        "
   ]
  },
  {
   "cell_type": "markdown",
   "metadata": {},
   "source": [
    "# Preparation for CNN"
   ]
  },
  {
   "cell_type": "code",
   "execution_count": null,
   "metadata": {},
   "outputs": [],
   "source": [
    "from __future__ import absolute_import, division, print_function\n",
    "\n",
    "# TensorFlow and tf.keras\n",
    "import tensorflow as tf\n",
    "from tensorflow import keras\n",
    "\n",
    "# Helper libraries\n",
    "import numpy as np\n",
    "import matplotlib.pyplot as plt\n",
    "print(tf.__version__)"
   ]
  },
  {
   "cell_type": "markdown",
   "metadata": {},
   "source": [
    "### Combine two data sets"
   ]
  },
  {
   "cell_type": "code",
   "execution_count": null,
   "metadata": {},
   "outputs": [],
   "source": [
    "images = images\n",
    "results = results\n",
    "# images = np.concatenate((rectangular_images,Triangular_images),axis=0)\n",
    "# results = np.concatenate((rectangular_results,Triangular_results),axis=0)\n",
    "\n",
    "# target_criteria = Triangular_target_angles\n",
    "# ligand_criteria = Triangular_ligand_angles\n",
    "# target_criteria = rectangular_target_heights + Triangular_target_angles\n",
    "# ligand_criteria = rectangular_ligand_heights + Triangular_ligand_angles\n",
    "print(\"result shape = \" + str(results.shape))\n",
    "\n",
    "class_names = ['inactive','active']"
   ]
  },
  {
   "cell_type": "code",
   "execution_count": null,
   "metadata": {},
   "outputs": [],
   "source": [
    "# Train set\n",
    "index_train_data = random.sample(range(0,no_ligands*no_targets),int(no_ligands*no_targets*0.8))\n",
    "# index_train_data = random.sample(range(0,2*no_ligands*no_targets),int(2*no_ligands*no_targets*0.8))\n",
    "train_images = np.asarray([images[i] for i in index_train_data])\n",
    "train_labels = np.asarray([results[i] for i in index_train_data])\n",
    "# train_target_criteria = np.asarray([target_criteria[i] for i in index_train_data])\n",
    "# train_ligand_criteria = np.asarray([ligand_criteria[i] for i in index_train_data])\n",
    "\n",
    "# Test set\n",
    "index_test_data = list(set(range(no_ligands*no_targets)).difference(set(index_train_data)))\n",
    "# index_test_data = list(set(range(2*no_ligands*no_targets)).difference(set(index_train_data)))\n",
    "test_images = np.asarray([images[i] for i in index_test_data])\n",
    "test_labels = np.asarray([results[i] for i in index_test_data])\n",
    "# test_target_criteria = np.asarray([target_criteria[i] for i in index_test_data])\n",
    "# test_ligand_criteria = np.asarray([ligand_criteria[i] for i in index_test_data])\n",
    "\n",
    "print(\"train_images shape: \" + str(train_images.shape))\n",
    "print(\"train_labels shape: \" + str(train_labels.shape))\n",
    "print(\"test_images shape: \" + str(test_images.shape))\n",
    "print(\"test_labels shape: \" + str(test_labels.shape))"
   ]
  },
  {
   "cell_type": "code",
   "execution_count": null,
   "metadata": {},
   "outputs": [],
   "source": [
    "model = keras.Sequential([\n",
    "    keras.layers.Conv2D(kernel_size=(5,5),filters = 128, input_shape=(50, 100,1),activation='relu'),\n",
    "    keras.layers.MaxPooling2D(pool_size = (2,2), strides=(2,2)),\n",
    "    keras.layers.Conv2D(kernel_size=(3,3),filters = 256, activation='relu'),\n",
    "    keras.layers.MaxPooling2D(pool_size = (2,2), strides=(2,2)),\n",
    "    keras.layers.Conv2D(kernel_size=(3,3),filters = 256, activation='relu'),\n",
    "    keras.layers.MaxPooling2D(pool_size = (2,2), strides=(1,1)),\n",
    "    keras.layers.Conv2D(kernel_size=(3,3),filters = 256, activation='relu'),\n",
    "    keras.layers.MaxPooling2D(pool_size = (2,2), strides=(1,1)),\n",
    "    keras.layers.Flatten(),\n",
    "    keras.layers.Dense(1024,activation='relu'),\n",
    "    keras.layers.Dense(1024,activation='relu'),\n",
    "    keras.layers.Dense(2,activation='softmax',activity_regularizer=keras.regularizers.l2())\n",
    "])\n",
    "model.summary()"
   ]
  },
  {
   "cell_type": "markdown",
   "metadata": {},
   "source": [
    "### Fit the model to the train data"
   ]
  },
  {
   "cell_type": "code",
   "execution_count": null,
   "metadata": {},
   "outputs": [],
   "source": [
    "model.compile(optimizer='adam',\n",
    "              loss='sparse_categorical_crossentropy',\n",
    "              metrics=['accuracy'])\n",
    "\n",
    "model.fit(train_images, train_labels, epochs=10)"
   ]
  },
  {
   "cell_type": "code",
   "execution_count": null,
   "metadata": {},
   "outputs": [],
   "source": [
    "test_loss, test_acc = model.evaluate(test_images, test_labels)\n",
    "\n",
    "print('Test accuracy:', test_acc)"
   ]
  },
  {
   "cell_type": "code",
   "execution_count": null,
   "metadata": {},
   "outputs": [],
   "source": []
  },
  {
   "cell_type": "code",
   "execution_count": null,
   "metadata": {},
   "outputs": [],
   "source": [
    "prediction_scores_test = model.predict(test_images)\n",
    "# Compute ROC curve and ROC area for each class\n",
    "fpr = dict()\n",
    "tpr = dict()\n",
    "roc_auc = dict()\n",
    "fpr, tpr, _ = roc_curve(1-test_labels, prediction_scores_test[:, 0])\n",
    "roc_auc = auc(fpr, tpr)"
   ]
  },
  {
   "cell_type": "code",
   "execution_count": null,
   "metadata": {},
   "outputs": [],
   "source": [
    "plt.figure()\n",
    "lw = 2\n",
    "plt.plot(fpr, tpr, color='darkorange',\n",
    "         lw=lw, label='ROC curve (area = %0.2f)' % roc_auc)\n",
    "plt.plot([0, 1], [0, 1], color='navy', lw=lw, linestyle='--')\n",
    "plt.xlim([0.0, 1.0])\n",
    "plt.ylim([0.0, 1.05])\n",
    "plt.xlabel('False Positive Rate')\n",
    "plt.ylabel('True Positive Rate')\n",
    "plt.title('Receiver operating characteristic example')\n",
    "plt.legend(loc=\"lower right\")\n",
    "plt.show()"
   ]
  },
  {
   "cell_type": "code",
   "execution_count": null,
   "metadata": {},
   "outputs": [],
   "source": [
    "# Compute PR curve and AP for each class\n",
    "precision = dict()\n",
    "recall = dict()\n",
    "average_precision = dict()\n",
    "precision, recall, _ = precision_recall_curve(1-test_labels, prediction_scores_test[:, 0])\n",
    "average_precision = average_precision_score(1-test_labels, prediction_scores_test[:, 0])"
   ]
  },
  {
   "cell_type": "code",
   "execution_count": null,
   "metadata": {},
   "outputs": [],
   "source": [
    "step_kwargs = ({'step': 'post'}\n",
    "               if 'step' in signature(plt.fill_between).parameters\n",
    "               else {})\n",
    "#plt.figure(figsize=(10,10))\n",
    "lw = 2\n",
    "plt.plot(recall, precision,'-',color='darkorange',label='PR curve (avg prec = %0.2f)' % average_precision)\n",
    "#plt.step(recall[2], precision[2],color='darkorange',where='post',\n",
    "#         label='PR curve (avg prec = %0.2f)' % average_precision[2])\n",
    "plt.fill_between(recall, precision, alpha=0.2, color='darkorange')\n",
    "plt.xlim([0.0, 1.0])\n",
    "plt.ylim([0.0, 1.05])\n",
    "plt.xlabel('Recall')\n",
    "plt.ylabel('Precision')\n",
    "plt.title('Precision-Recall Curve example')\n",
    "plt.legend(loc=\"lower right\")\n",
    "plt.show()"
   ]
  },
  {
   "cell_type": "markdown",
   "metadata": {},
   "source": [
    "### incorrect predictions"
   ]
  },
  {
   "cell_type": "code",
   "execution_count": null,
   "metadata": {},
   "outputs": [],
   "source": [
    "Predictions_train = model.predict_classes(train_images)"
   ]
  },
  {
   "cell_type": "code",
   "execution_count": null,
   "metadata": {},
   "outputs": [],
   "source": [
    "indices_incorrect_predictions_in_train = [i for i, x in enumerate(list(Predictions_train == train_labels.reshape(len(train_labels)))) if x == False ]\n",
    "print(\"Total Number of Incorrect Predictions among Train data : \", len(indices_incorrect_predictions_in_train))"
   ]
  },
  {
   "cell_type": "code",
   "execution_count": null,
   "metadata": {},
   "outputs": [],
   "source": [
    "for k, idx in enumerate(indices_incorrect_predictions_in_train):\n",
    "    plt.imshow(train_images[idx,:,:,0])\n",
    "    plt.show()\n",
    "    print('Real Label : ', train_labels[idx])\n",
    "    print('Predicted Label : ', Predictions_train[idx])\n",
    "#     print('Target Criteria : ', train_target_criteria[idx])\n",
    "#     print('Ligand Criteria : ', train_ligand_criteria[idx])\n",
    "    if k > 30:\n",
    "        break"
   ]
  },
  {
   "cell_type": "code",
   "execution_count": null,
   "metadata": {},
   "outputs": [],
   "source": []
  }
 ],
 "metadata": {
  "kernelspec": {
   "display_name": "Python 3",
   "language": "python",
   "name": "python3"
  },
  "language_info": {
   "codemirror_mode": {
    "name": "ipython",
    "version": 3
   },
   "file_extension": ".py",
   "mimetype": "text/x-python",
   "name": "python",
   "nbconvert_exporter": "python",
   "pygments_lexer": "ipython3",
   "version": "3.6.5"
  }
 },
 "nbformat": 4,
 "nbformat_minor": 2
}
