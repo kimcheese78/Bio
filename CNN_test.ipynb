{
 "cells": [
  {
   "cell_type": "markdown",
   "metadata": {},
   "source": [
    "\n",
    "# Generation of Data"
   ]
  },
  {
   "cell_type": "markdown",
   "metadata": {},
   "source": [
    "### Preparation"
   ]
  },
  {
   "cell_type": "code",
   "execution_count": 3,
   "metadata": {},
   "outputs": [],
   "source": [
    "import numpy as np\n",
    "import random\n",
    "from skimage import draw, io\n",
    "from skimage.draw import polygon\n",
    "from math import pi, acos\n",
    "\n",
    "from sklearn.metrics import roc_curve, auc, precision_recall_curve, average_precision_score\n",
    "from sklearn.utils.fixes import signature"
   ]
  },
  {
   "cell_type": "markdown",
   "metadata": {},
   "source": [
    "### Set up the structure of the data"
   ]
  },
  {
   "cell_type": "code",
   "execution_count": 4,
   "metadata": {},
   "outputs": [],
   "source": [
    "dim = 50  # the width and height of the image\n",
    "half_dim = int(dim / 2)\n",
    "no_targets = 100  # the number of targets\n",
    "no_ligands = 1000  # the number of ligands"
   ]
  },
  {
   "cell_type": "code",
   "execution_count": 5,
   "metadata": {},
   "outputs": [],
   "source": [
    "# Target & Ligand Images: image + identifier(1:target; 0:ligand)\n",
    "rectangular_images = np.zeros((no_ligands*no_targets,dim,dim*2,1),dtype='int8')\n",
    "rectangular_target_heights = []\n",
    "rectangular_ligand_heights = []\n",
    "Triangular_images = np.zeros((no_ligands*no_targets,dim,dim*2,1),dtype='int8')\n",
    "Triangular_target_angles = []\n",
    "Triangular_ligand_angles = []"
   ]
  },
  {
   "cell_type": "code",
   "execution_count": 6,
   "metadata": {},
   "outputs": [],
   "source": [
    "# 1: active; 0:inactive\n",
    "rectangular_results = np.zeros((no_ligands*no_targets,1),dtype='int8')\n",
    "Triangular_results = np.zeros((no_ligands*no_targets,1),dtype='int8')"
   ]
  },
  {
   "cell_type": "code",
   "execution_count": 7,
   "metadata": {},
   "outputs": [],
   "source": [
    "# Generation of Rectangular Images\n",
    "for i in range(no_targets):\n",
    "    # generate each target image\n",
    "    target = np.concatenate((np.zeros((dim, half_dim)), np.ones((dim, half_dim))), axis=1)\n",
    "    x_target = random.randint(0, half_dim)\n",
    "    y1_target = random.randint(0, half_dim)\n",
    "    y2_target = random.randint(y1_target + 5, dim)\n",
    "    target[y1_target:y2_target, x_target:half_dim] = 1\n",
    "    \n",
    "    rectangular_images[i*no_ligands:(i+1)*no_ligands,:,:dim,0]=target\n",
    "\n",
    "    for j in range(no_ligands):\n",
    "        # generate each ligand\n",
    "        ligand = np.ones((dim, dim))\n",
    "        x1_ligand = random.randint(0, half_dim)\n",
    "        x2_ligand = random.randint(x1_ligand + 5, dim)\n",
    "        y1_ligand = random.randint(0, half_dim)\n",
    "        y2_ligand = random.randint(y1_ligand + 5, dim)\n",
    "        ligand[y1_ligand:y2_ligand, x1_ligand:x2_ligand] = 0\n",
    "        \n",
    "        rectangular_images[i*no_ligands+j, :,dim:,0] = ligand\n",
    "        \n",
    "        rectangular_target_heights.append(y2_target - y1_target)\n",
    "        rectangular_ligand_heights.append([(y2_ligand - y1_ligand), (x2_ligand - x1_ligand)])\n",
    "\n",
    "        # determine whether the ligand fits in the target / save images\n",
    "        if (y2_target - y1_target) - (y2_ligand - y1_ligand) >= 0:\n",
    "            if (half_dim-x_target) >= (x2_ligand-x1_ligand) * (2/3):\n",
    "                rectangular_results[i*no_ligands+j] = 1\n",
    "                #io.imsave('../images\\\\Rec_Target_'+str(i)+'_Ligand_'+str(j)+'_active.png', ligand)\n",
    "            else:\n",
    "                rectangular_results[i*no_ligands + j] = 0\n",
    "                #io.imsave('../images\\\\Rec_Target_'+str(i)+'_Ligand_'+str(j)+'_inactive.png', ligand)\n",
    "        elif (y2_target-y1_target) >= (x2_ligand-x1_ligand):\n",
    "            if (half_dim - x_target) >= (y2_ligand-y1_ligand) * (2/3):\n",
    "                rectangular_results[i*no_ligands + j] = 1\n",
    "                #io.imsave('../images\\\\Rec_Target_'+str(i)+'_Ligand_'+str(j)+'_active.png', ligand)\n",
    "            else:\n",
    "                rectangular_results[i*no_ligands + j] = 0\n",
    "                #io.imsave('../images\\\\Rec_Target_'+str(i)+'_Ligand_'+str(j)+'_inactive.png', ligand)\n",
    "        else:\n",
    "            rectangular_results[i*no_ligands + j] = 0\n",
    "            #io.imsave('../images\\\\Rec_Target_'+str(i)+'_Ligand_'+str(j)+'_inactive.png', ligand)"
   ]
  },
  {
   "cell_type": "code",
   "execution_count": 8,
   "metadata": {},
   "outputs": [],
   "source": [
    "# Generation of Triangular images\n",
    "for i in range(no_targets):\n",
    "    target = np.concatenate((np.zeros((dim,half_dim)), np.ones((dim,half_dim))), axis = 1)\n",
    "    r1,r2,r3 = [random.randint(0,dim), random.randint(0,half_dim), random.randint(half_dim,dim)]\n",
    "    c1,c2,c3 = [random.randint(0,half_dim),half_dim,half_dim]\n",
    "    r = r1,r2,r3,r1\n",
    "    c = c1,c2,c3,c1\n",
    "    rr, cc = polygon(r, c) \n",
    "    target[rr, cc] = 1\n",
    "    \n",
    "    Triangular_images[i*no_ligands:(i+1)*no_ligands,:,:dim,0] = target\n",
    "    \n",
    "    #target angle calculation\n",
    "    C12, R12 = (c2-c1),(r2-r1) #AB_vector\n",
    "    C13, R13 = (c3-c1),(r3-r1) #AC_vector\n",
    "    ABAC_vector = C12*C13 + R12*R13 #AB_vector * AC_vector\n",
    "    AB_length = (C12**2+R12**2)**(1/2) #Pythagoras\n",
    "    AC_length = (C13**2+R13**2)**(1/2) #Pythagoras\n",
    "    target_angle = acos(ABAC_vector/(AB_length*AC_length))*(180/pi) #arccos()\n",
    "    \n",
    "    for j in range(no_ligands):\n",
    "        ligand = np.ones((dim,dim))\n",
    "        r1,r2,r3 = [random.randrange(int(dim*(1/2)), dim), random.randrange(0, int(dim*(1/2))), random.randrange(int(dim*(1/2)), dim)]\n",
    "        c1,c2,c3 = [random.randrange(0, int(dim*(1/3))), random.randrange(int(dim*(1/3)),int(dim*(2/3))), random.randrange(int(dim*(2/3)),dim), ]\n",
    "        r = r1,r2,r3,r1\n",
    "        c = c1,c2,c3,c1\n",
    "        rr, cc = polygon(r, c) \n",
    "        ligand[rr, cc] = 0\n",
    "        \n",
    "        Triangular_images[i*no_ligands+j, :,dim:,0] = ligand\n",
    "        \n",
    "        #ligand_A angle calculation\n",
    "        C12, R12 = (c2 - c1),(r2 - r1) #AB_vector\n",
    "        C13, R13 = (c3 - c1),(r3 - r1) #AC_vector\n",
    "        ABAC_vector = C12*C13 + R12*R13 #AB_vector * AC_vector\n",
    "        AB_length = (C12**2 + R12**2)**(1/2) #Pythagoras\n",
    "        AC_length = (C13**2 + R13**2)**(1/2) #Pythagoras\n",
    "        ligand_angle_A = acos(ABAC_vector/(AB_length*AC_length))*(180/pi) #arccos()\n",
    "        \n",
    "        #ligand_B angle calculation\n",
    "        C21, R21 = (c1 - c2),(r1 - r2) #AB_vector\n",
    "        C23, R23 = (c3 - c2),(r3 - r2) #AC_vector\n",
    "        BABC_vector = C21*C23 + R21*R23 #AB_vector * AC_vector\n",
    "        BA_length = (C21**2 + R21**2)**(1/2) #Pythagoras\n",
    "        BC_length = (C23**2 + R23**2)**(1/2) #Pythagoras\n",
    "        ligand_angle_B = acos(BABC_vector/(BA_length*BC_length))*(180/pi) #arccos()\n",
    "        \n",
    "        #ligand_C angle calculation\n",
    "        ligand_angle_C = 180 - (ligand_angle_A + ligand_angle_B)\n",
    "        \n",
    "        Triangular_target_angles.append(target_angle)\n",
    "        Triangular_ligand_angles.append([ligand_angle_A, ligand_angle_B, ligand_angle_C])\n",
    "        \n",
    "        # determine whether the ligand fits in the target / save images\n",
    "        ligand_angles = [ligand_angle_A, ligand_angle_B, ligand_angle_C]\n",
    "        if any(0 <= (target_angle - x)  for x in ligand_angles) :\n",
    "            Triangular_results[i*no_ligands+j] = 1\n",
    "        else:\n",
    "            Triangular_results[i*no_ligands+j] = 0"
   ]
  },
  {
   "cell_type": "code",
   "execution_count": 9,
   "metadata": {},
   "outputs": [
    {
     "data": {
      "text/plain": [
       "(array([0, 1], dtype=int8), array([36538, 63462], dtype=int64))"
      ]
     },
     "execution_count": 9,
     "metadata": {},
     "output_type": "execute_result"
    }
   ],
   "source": [
    "np.unique(Triangular_results, return_counts=True)"
   ]
  },
  {
   "cell_type": "markdown",
   "metadata": {},
   "source": [
    "# Preparation for CNN"
   ]
  },
  {
   "cell_type": "code",
   "execution_count": 10,
   "metadata": {},
   "outputs": [
    {
     "name": "stdout",
     "output_type": "stream",
     "text": [
      "1.13.1\n"
     ]
    }
   ],
   "source": [
    "from __future__ import absolute_import, division, print_function\n",
    "\n",
    "# TensorFlow and tf.keras\n",
    "import tensorflow as tf\n",
    "from tensorflow import keras\n",
    "\n",
    "# Helper libraries\n",
    "import numpy as np\n",
    "import matplotlib.pyplot as plt\n",
    "print(tf.__version__)"
   ]
  },
  {
   "cell_type": "markdown",
   "metadata": {},
   "source": [
    "### Combine two data sets"
   ]
  },
  {
   "cell_type": "code",
   "execution_count": 11,
   "metadata": {},
   "outputs": [
    {
     "name": "stdout",
     "output_type": "stream",
     "text": [
      "result shape = (200000, 1)\n"
     ]
    }
   ],
   "source": [
    "# images = Triangular_images\n",
    "# results = Triangular_results\n",
    "images = np.concatenate((rectangular_images,Triangular_images),axis=0)\n",
    "results = np.concatenate((rectangular_results,Triangular_results),axis=0)\n",
    "\n",
    "# target_criteria = Triangular_target_angles\n",
    "# ligand_criteria = Triangular_ligand_angles\n",
    "target_criteria = rectangular_target_heights + Triangular_target_angles\n",
    "ligand_criteria = rectangular_ligand_heights + Triangular_ligand_angles\n",
    "print(\"result shape = \" + str(results.shape))\n",
    "\n",
    "class_names = ['inactive','active']"
   ]
  },
  {
   "cell_type": "markdown",
   "metadata": {},
   "source": [
    "### Split the data into the train set and the test set"
   ]
  },
  {
   "cell_type": "code",
   "execution_count": 12,
   "metadata": {},
   "outputs": [
    {
     "name": "stdout",
     "output_type": "stream",
     "text": [
      "train_images shape: (80000, 50, 100, 1)\n",
      "train_labels shape: (80000, 1)\n",
      "test_images shape: (20000, 50, 100, 1)\n",
      "test_labels shape: (20000, 1)\n"
     ]
    }
   ],
   "source": [
    "# Train set\n",
    "index_train_data = random.sample(range(0,no_ligands*no_targets),int(no_ligands*no_targets*0.8))\n",
    "# index_train_data = random.sample(range(0,2*no_ligands*no_targets),int(2*no_ligands*no_targets*0.8))\n",
    "train_images = np.asarray([images[i] for i in index_train_data])\n",
    "train_labels = np.asarray([results[i] for i in index_train_data])\n",
    "train_target_criteria = np.asarray([target_criteria[i] for i in index_train_data])\n",
    "train_ligand_criteria = np.asarray([ligand_criteria[i] for i in index_train_data])\n",
    "\n",
    "# Test set\n",
    "index_test_data = list(set(range(no_ligands*no_targets)).difference(set(index_train_data)))\n",
    "# index_test_data = list(set(range(2*no_ligands*no_targets)).difference(set(index_train_data)))\n",
    "test_images = np.asarray([images[i] for i in index_test_data])\n",
    "test_labels = np.asarray([results[i] for i in index_test_data])\n",
    "test_target_criteria = np.asarray([target_criteria[i] for i in index_test_data])\n",
    "test_ligand_criteria = np.asarray([ligand_criteria[i] for i in index_test_data])\n",
    "\n",
    "print(\"train_images shape: \" + str(train_images.shape))\n",
    "print(\"train_labels shape: \" + str(train_labels.shape))\n",
    "print(\"test_images shape: \" + str(test_images.shape))\n",
    "print(\"test_labels shape: \" + str(test_labels.shape))"
   ]
  },
  {
   "cell_type": "markdown",
   "metadata": {},
   "source": [
    "### Set up the Model"
   ]
  },
  {
   "cell_type": "code",
   "execution_count": 18,
   "metadata": {},
   "outputs": [
    {
     "name": "stdout",
     "output_type": "stream",
     "text": [
      "WARNING:tensorflow:From C:\\Users\\Alon_05\\Envs\\DeepLearning\\lib\\site-packages\\tensorflow\\python\\ops\\resource_variable_ops.py:435: colocate_with (from tensorflow.python.framework.ops) is deprecated and will be removed in a future version.\n",
      "Instructions for updating:\n",
      "Colocations handled automatically by placer.\n",
      "_________________________________________________________________\n",
      "Layer (type)                 Output Shape              Param #   \n",
      "=================================================================\n",
      "conv2d (Conv2D)              (None, 46, 96, 128)       3328      \n",
      "_________________________________________________________________\n",
      "max_pooling2d (MaxPooling2D) (None, 23, 48, 128)       0         \n",
      "_________________________________________________________________\n",
      "conv2d_1 (Conv2D)            (None, 21, 46, 256)       295168    \n",
      "_________________________________________________________________\n",
      "max_pooling2d_1 (MaxPooling2 (None, 10, 23, 256)       0         \n",
      "_________________________________________________________________\n",
      "conv2d_2 (Conv2D)            (None, 8, 21, 256)        590080    \n",
      "_________________________________________________________________\n",
      "max_pooling2d_2 (MaxPooling2 (None, 7, 20, 256)        0         \n",
      "_________________________________________________________________\n",
      "conv2d_3 (Conv2D)            (None, 5, 18, 256)        590080    \n",
      "_________________________________________________________________\n",
      "max_pooling2d_3 (MaxPooling2 (None, 4, 17, 256)        0         \n",
      "_________________________________________________________________\n",
      "flatten (Flatten)            (None, 17408)             0         \n",
      "_________________________________________________________________\n",
      "dense (Dense)                (None, 1024)              17826816  \n",
      "_________________________________________________________________\n",
      "dense_1 (Dense)              (None, 1024)              1049600   \n",
      "_________________________________________________________________\n",
      "dense_2 (Dense)              (None, 2)                 2050      \n",
      "=================================================================\n",
      "Total params: 20,357,122\n",
      "Trainable params: 20,357,122\n",
      "Non-trainable params: 0\n",
      "_________________________________________________________________\n"
     ]
    }
   ],
   "source": [
    "model = keras.Sequential([\n",
    "    keras.layers.Conv2D(kernel_size=(5,5),filters = 128, input_shape=(50, 100,1),activation='relu'),\n",
    "    keras.layers.MaxPooling2D(pool_size = (2,2), strides=(2,2)),\n",
    "    keras.layers.Conv2D(kernel_size=(3,3),filters = 256, activation='relu'),\n",
    "    keras.layers.MaxPooling2D(pool_size = (2,2), strides=(2,2)),\n",
    "    keras.layers.Conv2D(kernel_size=(3,3),filters = 256, activation='relu'),\n",
    "    keras.layers.MaxPooling2D(pool_size = (2,2), strides=(1,1)),\n",
    "    keras.layers.Conv2D(kernel_size=(3,3),filters = 256, activation='relu'),\n",
    "    keras.layers.MaxPooling2D(pool_size = (2,2), strides=(1,1)),\n",
    "    keras.layers.Flatten(),\n",
    "    keras.layers.Dense(1024,activation='relu'),\n",
    "    keras.layers.Dense(1024,activation='relu'),\n",
    "    keras.layers.Dense(2,activation='softmax',activity_regularizer=keras.regularizers.l2())\n",
    "])\n",
    "model.summary()"
   ]
  },
  {
   "cell_type": "markdown",
   "metadata": {},
   "source": [
    "### Fit the model to the train data"
   ]
  },
  {
   "cell_type": "code",
   "execution_count": 36,
   "metadata": {},
   "outputs": [
    {
     "name": "stdout",
     "output_type": "stream",
     "text": [
      "Epoch 1/10\n",
      "80000/80000 [==============================] - 55s 689us/sample - loss: 0.1553 - acc: 0.9374\n",
      "Epoch 2/10\n",
      "80000/80000 [==============================] - 55s 686us/sample - loss: 0.0833 - acc: 0.9692\n",
      "Epoch 3/10\n",
      "80000/80000 [==============================] - 55s 684us/sample - loss: 0.0676 - acc: 0.9758\n",
      "Epoch 4/10\n",
      "80000/80000 [==============================] - 55s 686us/sample - loss: 0.0619 - acc: 0.9787\n",
      "Epoch 5/10\n",
      "80000/80000 [==============================] - 55s 685us/sample - loss: 0.0585 - acc: 0.9817\n",
      "Epoch 6/10\n",
      "80000/80000 [==============================] - 55s 687us/sample - loss: 0.0517 - acc: 0.9830\n",
      "Epoch 7/10\n",
      "80000/80000 [==============================] - 55s 689us/sample - loss: 0.0485 - acc: 0.9848\n",
      "Epoch 8/10\n",
      "80000/80000 [==============================] - 56s 695us/sample - loss: 0.0459 - acc: 0.9858\n",
      "Epoch 9/10\n",
      "80000/80000 [==============================] - 55s 690us/sample - loss: 0.0418 - acc: 0.9870\n",
      "Epoch 10/10\n",
      "80000/80000 [==============================] - 55s 686us/sample - loss: 0.0440 - acc: 0.9880\n"
     ]
    },
    {
     "data": {
      "text/plain": [
       "<tensorflow.python.keras.callbacks.History at 0x2a181795b00>"
      ]
     },
     "execution_count": 36,
     "metadata": {},
     "output_type": "execute_result"
    }
   ],
   "source": [
    "model.compile(optimizer='adam',\n",
    "              loss='sparse_categorical_crossentropy',\n",
    "              metrics=['accuracy'])\n",
    "\n",
    "model.fit(train_images, train_labels, epochs=10)"
   ]
  },
  {
   "cell_type": "markdown",
   "metadata": {},
   "source": [
    "### Evaluate the model with the test data"
   ]
  },
  {
   "cell_type": "code",
   "execution_count": 37,
   "metadata": {},
   "outputs": [
    {
     "name": "stdout",
     "output_type": "stream",
     "text": [
      "20000/20000 [==============================] - 4s 186us/sample - loss: 0.0637 - acc: 0.9796\n",
      "Test accuracy: 0.9796\n"
     ]
    }
   ],
   "source": [
    "test_loss, test_acc = model.evaluate(test_images, test_labels)\n",
    "\n",
    "print('Test accuracy:', test_acc)"
   ]
  },
  {
   "cell_type": "markdown",
   "metadata": {},
   "source": [
    "### Save Model as a File"
   ]
  },
  {
   "cell_type": "code",
   "execution_count": null,
   "metadata": {},
   "outputs": [],
   "source": [
    "model.save('my_model_tri')  # creates a HDF5 file 'my_model.h5'\n",
    "del model  # deletes the existing model"
   ]
  },
  {
   "cell_type": "code",
   "execution_count": null,
   "metadata": {},
   "outputs": [],
   "source": [
    "from tensorflow.keras.models import load_model\n",
    "\n",
    "# returns a compiled model\n",
    "# identical to the previous one\n",
    "model = keras.models.load_model('my_model_tri')"
   ]
  },
  {
   "cell_type": "code",
   "execution_count": null,
   "metadata": {},
   "outputs": [],
   "source": [
    "test_loss, test_acc = model.evaluate(test_images, test_labels)\n",
    "\n",
    "print('Test accuracy:', test_acc)"
   ]
  },
  {
   "cell_type": "markdown",
   "metadata": {},
   "source": [
    "### ROC curve"
   ]
  },
  {
   "cell_type": "code",
   "execution_count": 38,
   "metadata": {},
   "outputs": [],
   "source": [
    "prediction_scores_test = model.predict(test_images)\n",
    "# Compute ROC curve and ROC area for each class\n",
    "fpr = dict()\n",
    "tpr = dict()\n",
    "roc_auc = dict()\n",
    "fpr, tpr, _ = roc_curve(1-test_labels, prediction_scores_test[:, 0])\n",
    "roc_auc = auc(fpr, tpr)"
   ]
  },
  {
   "cell_type": "code",
   "execution_count": 39,
   "metadata": {},
   "outputs": [
    {
     "data": {
      "image/png": "[encoded data removed]",
      "text/plain": [
       "<Figure size 432x288 with 1 Axes>"
      ]
     },
     "metadata": {
      "needs_background": "light"
     },
     "output_type": "display_data"
    }
   ],
   "source": [
    "plt.figure()\n",
    "lw = 2\n",
    "plt.plot(fpr, tpr, color='darkorange',\n",
    "         lw=lw, label='ROC curve (area = %0.2f)' % roc_auc)\n",
    "plt.plot([0, 1], [0, 1], color='navy', lw=lw, linestyle='--')\n",
    "plt.xlim([0.0, 1.0])\n",
    "plt.ylim([0.0, 1.05])\n",
    "plt.xlabel('False Positive Rate')\n",
    "plt.ylabel('True Positive Rate')\n",
    "plt.title('Receiver operating characteristic example')\n",
    "plt.legend(loc=\"lower right\")\n",
    "plt.show()"
   ]
  },
  {
   "cell_type": "markdown",
   "metadata": {},
   "source": [
    "### PR curve"
   ]
  },
  {
   "cell_type": "code",
   "execution_count": 40,
   "metadata": {},
   "outputs": [],
   "source": [
    "# Compute PR curve and AP for each class\n",
    "precision = dict()\n",
    "recall = dict()\n",
    "average_precision = dict()\n",
    "precision, recall, _ = precision_recall_curve(1-test_labels, prediction_scores_test[:, 0])\n",
    "average_precision = average_precision_score(1-test_labels, prediction_scores_test[:, 0])"
   ]
  },
  {
   "cell_type": "code",
   "execution_count": 41,
   "metadata": {},
   "outputs": [
    {
     "data": {
      "image/png": "[encoded data removed]",
      "text/plain": [
       "<Figure size 432x288 with 1 Axes>"
      ]
     },
     "metadata": {
      "needs_background": "light"
     },
     "output_type": "display_data"
    }
   ],
   "source": [
    "step_kwargs = ({'step': 'post'}\n",
    "               if 'step' in signature(plt.fill_between).parameters\n",
    "               else {})\n",
    "#plt.figure(figsize=(10,10))\n",
    "lw = 2\n",
    "plt.plot(recall, precision,'-',color='darkorange',label='PR curve (avg prec = %0.2f)' % average_precision)\n",
    "#plt.step(recall[2], precision[2],color='darkorange',where='post',\n",
    "#         label='PR curve (avg prec = %0.2f)' % average_precision[2])\n",
    "plt.fill_between(recall, precision, alpha=0.2, color='darkorange')\n",
    "plt.xlim([0.0, 1.0])\n",
    "plt.ylim([0.0, 1.05])\n",
    "plt.xlabel('Recall')\n",
    "plt.ylabel('Precision')\n",
    "plt.title('Precision-Recall Curve example')\n",
    "plt.legend(loc=\"lower right\")\n",
    "plt.show()"
   ]
  },
  {
   "cell_type": "code",
   "execution_count": null,
   "metadata": {},
   "outputs": [],
   "source": []
  },
  {
   "cell_type": "code",
   "execution_count": null,
   "metadata": {},
   "outputs": [],
   "source": []
  },
  {
   "cell_type": "code",
   "execution_count": null,
   "metadata": {},
   "outputs": [],
   "source": []
  },
  {
   "cell_type": "code",
   "execution_count": null,
   "metadata": {},
   "outputs": [],
   "source": [
    "prediction_scores_test[:, 0].shape"
   ]
  },
  {
   "cell_type": "code",
   "execution_count": null,
   "metadata": {},
   "outputs": [],
   "source": [
    "test_labels.shape"
   ]
  },
  {
   "cell_type": "code",
   "execution_count": null,
   "metadata": {},
   "outputs": [],
   "source": []
  },
  {
   "cell_type": "code",
   "execution_count": null,
   "metadata": {},
   "outputs": [],
   "source": []
  },
  {
   "cell_type": "markdown",
   "metadata": {},
   "source": [
    "### What are the incorrect predictions?"
   ]
  },
  {
   "cell_type": "code",
   "execution_count": 19,
   "metadata": {},
   "outputs": [],
   "source": [
    "Predictions_train = model.predict_classes(train_images)"
   ]
  },
  {
   "cell_type": "code",
   "execution_count": 20,
   "metadata": {},
   "outputs": [
    {
     "name": "stdout",
     "output_type": "stream",
     "text": [
      "Total Number of Incorrect Predictions among Train data :  60606\n"
     ]
    }
   ],
   "source": [
    "indices_incorrect_predictions_in_train = [i for i, x in enumerate(list(Predictions_train == train_labels.reshape(len(train_labels)))) if x == False ]\n",
    "print(\"Total Number of Incorrect Predictions among Train data : \", len(indices_incorrect_predictions_in_train))"
   ]
  },
  {
   "cell_type": "code",
   "execution_count": 21,
   "metadata": {},
   "outputs": [
    {
     "data": {
      "image/png": "[encoded data removed]",
      "text/plain": [
       "<Figure size 432x288 with 1 Axes>"
      ]
     },
     "metadata": {
      "needs_background": "light"
     },
     "output_type": "display_data"
    },
    {
     "name": "stdout",
     "output_type": "stream",
     "text": [
      "Real Label :  [0]\n",
      "Predicted Label :  1\n",
      "Target Criteria :  13\n",
      "Ligand Criteria :  [42 10]\n"
     ]
    },
    {
     "data": {
      "image/png": "[encoded data removed]",
      "text/plain": [
       "<Figure size 432x288 with 1 Axes>"
      ]
     },
     "metadata": {
      "needs_background": "light"
     },
     "output_type": "display_data"
    },
    {
     "name": "stdout",
     "output_type": "stream",
     "text": [
      "Real Label :  [0]\n",
      "Predicted Label :  1\n",
      "Target Criteria :  22\n",
      "Ligand Criteria :  [22 26]\n"
     ]
    },
    {
     "data": {
      "image/png": "[encoded data removed]",
      "text/plain": [
       "<Figure size 432x288 with 1 Axes>"
      ]
     },
     "metadata": {
      "needs_background": "light"
     },
     "output_type": "display_data"
    },
    {
     "name": "stdout",
     "output_type": "stream",
     "text": [
      "Real Label :  [0]\n",
      "Predicted Label :  1\n",
      "Target Criteria :  19\n",
      "Ligand Criteria :  [16 15]\n"
     ]
    },
    {
     "data": {
      "image/png": "[encoded data removed]",
      "text/plain": [
       "<Figure size 432x288 with 1 Axes>"
      ]
     },
     "metadata": {
      "needs_background": "light"
     },
     "output_type": "display_data"
    },
    {
     "name": "stdout",
     "output_type": "stream",
     "text": [
      "Real Label :  [0]\n",
      "Predicted Label :  1\n",
      "Target Criteria :  20\n",
      "Ligand Criteria :  [15 45]\n"
     ]
    },
    {
     "data": {
      "image/png": "[encoded data removed]",
      "text/plain": [
       "<Figure size 432x288 with 1 Axes>"
      ]
     },
     "metadata": {
      "needs_background": "light"
     },
     "output_type": "display_data"
    },
    {
     "name": "stdout",
     "output_type": "stream",
     "text": [
      "Real Label :  [0]\n",
      "Predicted Label :  1\n",
      "Target Criteria :  7\n",
      "Ligand Criteria :  [ 9 23]\n"
     ]
    },
    {
     "data": {
      "image/png": "[encoded data removed]",
      "text/plain": [
       "<Figure size 432x288 with 1 Axes>"
      ]
     },
     "metadata": {
      "needs_background": "light"
     },
     "output_type": "display_data"
    },
    {
     "name": "stdout",
     "output_type": "stream",
     "text": [
      "Real Label :  [0]\n",
      "Predicted Label :  1\n",
      "Target Criteria :  15\n",
      "Ligand Criteria :  [20 35]\n"
     ]
    },
    {
     "data": {
      "image/png": "[encoded data removed]",
      "text/plain": [
       "<Figure size 432x288 with 1 Axes>"
      ]
     },
     "metadata": {
      "needs_background": "light"
     },
     "output_type": "display_data"
    },
    {
     "name": "stdout",
     "output_type": "stream",
     "text": [
      "Real Label :  [0]\n",
      "Predicted Label :  1\n",
      "Target Criteria :  19\n",
      "Ligand Criteria :  [23 23]\n"
     ]
    },
    {
     "data": {
      "image/png": "[encoded data removed]",
      "text/plain": [
       "<Figure size 432x288 with 1 Axes>"
      ]
     },
     "metadata": {
      "needs_background": "light"
     },
     "output_type": "display_data"
    },
    {
     "name": "stdout",
     "output_type": "stream",
     "text": [
      "Real Label :  [0]\n",
      "Predicted Label :  1\n",
      "Target Criteria :  15\n",
      "Ligand Criteria :  [30 34]\n"
     ]
    },
    {
     "data": {
      "image/png": "[encoded data removed]",
      "text/plain": [
       "<Figure size 432x288 with 1 Axes>"
      ]
     },
     "metadata": {
      "needs_background": "light"
     },
     "output_type": "display_data"
    },
    {
     "name": "stdout",
     "output_type": "stream",
     "text": [
      "Real Label :  [0]\n",
      "Predicted Label :  1\n",
      "Target Criteria :  32\n",
      "Ligand Criteria :  [33 22]\n"
     ]
    },
    {
     "data": {
      "image/png": "[encoded data removed]",
      "text/plain": [
       "<Figure size 432x288 with 1 Axes>"
      ]
     },
     "metadata": {
      "needs_background": "light"
     },
     "output_type": "display_data"
    },
    {
     "name": "stdout",
     "output_type": "stream",
     "text": [
      "Real Label :  [0]\n",
      "Predicted Label :  1\n",
      "Target Criteria :  33\n",
      "Ligand Criteria :  [11 45]\n"
     ]
    },
    {
     "data": {
      "image/png": "[encoded data removed]",
      "text/plain": [
       "<Figure size 432x288 with 1 Axes>"
      ]
     },
     "metadata": {
      "needs_background": "light"
     },
     "output_type": "display_data"
    },
    {
     "name": "stdout",
     "output_type": "stream",
     "text": [
      "Real Label :  [0]\n",
      "Predicted Label :  1\n",
      "Target Criteria :  6\n",
      "Ligand Criteria :  [ 9 37]\n"
     ]
    },
    {
     "data": {
      "image/png": "[encoded data removed]",
      "text/plain": [
       "<Figure size 432x288 with 1 Axes>"
      ]
     },
     "metadata": {
      "needs_background": "light"
     },
     "output_type": "display_data"
    },
    {
     "name": "stdout",
     "output_type": "stream",
     "text": [
      "Real Label :  [0]\n",
      "Predicted Label :  1\n",
      "Target Criteria :  9\n",
      "Ligand Criteria :  [21 28]\n"
     ]
    },
    {
     "data": {
      "image/png": "[encoded data removed]",
      "text/plain": [
       "<Figure size 432x288 with 1 Axes>"
      ]
     },
     "metadata": {
      "needs_background": "light"
     },
     "output_type": "display_data"
    },
    {
     "name": "stdout",
     "output_type": "stream",
     "text": [
      "Real Label :  [0]\n",
      "Predicted Label :  1\n",
      "Target Criteria :  21\n",
      "Ligand Criteria :  [26 18]\n"
     ]
    },
    {
     "data": {
      "image/png": "[encoded data removed]",
      "text/plain": [
       "<Figure size 432x288 with 1 Axes>"
      ]
     },
     "metadata": {
      "needs_background": "light"
     },
     "output_type": "display_data"
    },
    {
     "name": "stdout",
     "output_type": "stream",
     "text": [
      "Real Label :  [0]\n",
      "Predicted Label :  1\n",
      "Target Criteria :  7\n",
      "Ligand Criteria :  [31 13]\n"
     ]
    },
    {
     "data": {
      "image/png": "[encoded data removed]",
      "text/plain": [
       "<Figure size 432x288 with 1 Axes>"
      ]
     },
     "metadata": {
      "needs_background": "light"
     },
     "output_type": "display_data"
    },
    {
     "name": "stdout",
     "output_type": "stream",
     "text": [
      "Real Label :  [0]\n",
      "Predicted Label :  1\n",
      "Target Criteria :  20\n",
      "Ligand Criteria :  [ 6 27]\n"
     ]
    },
    {
     "data": {
      "image/png": "[encoded data removed]",
      "text/plain": [
       "<Figure size 432x288 with 1 Axes>"
      ]
     },
     "metadata": {
      "needs_background": "light"
     },
     "output_type": "display_data"
    },
    {
     "name": "stdout",
     "output_type": "stream",
     "text": [
      "Real Label :  [0]\n",
      "Predicted Label :  1\n",
      "Target Criteria :  26\n",
      "Ligand Criteria :  [30 13]\n"
     ]
    },
    {
     "data": {
      "image/png": "[encoded data removed]",
      "text/plain": [
       "<Figure size 432x288 with 1 Axes>"
      ]
     },
     "metadata": {
      "needs_background": "light"
     },
     "output_type": "display_data"
    },
    {
     "name": "stdout",
     "output_type": "stream",
     "text": [
      "Real Label :  [0]\n",
      "Predicted Label :  1\n",
      "Target Criteria :  7\n",
      "Ligand Criteria :  [10 29]\n"
     ]
    },
    {
     "data": {
      "image/png": "[encoded data removed]",
      "text/plain": [
       "<Figure size 432x288 with 1 Axes>"
      ]
     },
     "metadata": {
      "needs_background": "light"
     },
     "output_type": "display_data"
    },
    {
     "name": "stdout",
     "output_type": "stream",
     "text": [
      "Real Label :  [0]\n",
      "Predicted Label :  1\n",
      "Target Criteria :  23\n",
      "Ligand Criteria :  [14 32]\n"
     ]
    },
    {
     "data": {
      "image/png": "[encoded data removed]",
      "text/plain": [
       "<Figure size 432x288 with 1 Axes>"
      ]
     },
     "metadata": {
      "needs_background": "light"
     },
     "output_type": "display_data"
    },
    {
     "name": "stdout",
     "output_type": "stream",
     "text": [
      "Real Label :  [0]\n",
      "Predicted Label :  1\n",
      "Target Criteria :  14\n",
      "Ligand Criteria :  [21  5]\n"
     ]
    },
    {
     "data": {
      "image/png": "[encoded data removed]",
      "text/plain": [
       "<Figure size 432x288 with 1 Axes>"
      ]
     },
     "metadata": {
      "needs_background": "light"
     },
     "output_type": "display_data"
    },
    {
     "name": "stdout",
     "output_type": "stream",
     "text": [
      "Real Label :  [0]\n",
      "Predicted Label :  1\n",
      "Target Criteria :  10\n",
      "Ligand Criteria :  [15 14]\n"
     ]
    },
    {
     "data": {
      "image/png": "[encoded data removed]",
      "text/plain": [
       "<Figure size 432x288 with 1 Axes>"
      ]
     },
     "metadata": {
      "needs_background": "light"
     },
     "output_type": "display_data"
    },
    {
     "name": "stdout",
     "output_type": "stream",
     "text": [
      "Real Label :  [0]\n",
      "Predicted Label :  1\n",
      "Target Criteria :  20\n",
      "Ligand Criteria :  [32 33]\n"
     ]
    },
    {
     "data": {
      "image/png": "[encoded data removed]",
      "text/plain": [
       "<Figure size 432x288 with 1 Axes>"
      ]
     },
     "metadata": {
      "needs_background": "light"
     },
     "output_type": "display_data"
    },
    {
     "name": "stdout",
     "output_type": "stream",
     "text": [
      "Real Label :  [0]\n",
      "Predicted Label :  1\n",
      "Target Criteria :  9\n",
      "Ligand Criteria :  [21 23]\n"
     ]
    },
    {
     "data": {
      "image/png": "[encoded data removed]",
      "text/plain": [
       "<Figure size 432x288 with 1 Axes>"
      ]
     },
     "metadata": {
      "needs_background": "light"
     },
     "output_type": "display_data"
    },
    {
     "name": "stdout",
     "output_type": "stream",
     "text": [
      "Real Label :  [0]\n",
      "Predicted Label :  1\n",
      "Target Criteria :  12\n",
      "Ligand Criteria :  [35 23]\n"
     ]
    },
    {
     "data": {
      "image/png": "[encoded data removed]",
      "text/plain": [
       "<Figure size 432x288 with 1 Axes>"
      ]
     },
     "metadata": {
      "needs_background": "light"
     },
     "output_type": "display_data"
    },
    {
     "name": "stdout",
     "output_type": "stream",
     "text": [
      "Real Label :  [0]\n",
      "Predicted Label :  1\n",
      "Target Criteria :  31\n",
      "Ligand Criteria :  [18 22]\n"
     ]
    },
    {
     "data": {
      "image/png": "[encoded data removed]",
      "text/plain": [
       "<Figure size 432x288 with 1 Axes>"
      ]
     },
     "metadata": {
      "needs_background": "light"
     },
     "output_type": "display_data"
    },
    {
     "name": "stdout",
     "output_type": "stream",
     "text": [
      "Real Label :  [0]\n",
      "Predicted Label :  1\n",
      "Target Criteria :  9\n",
      "Ligand Criteria :  [28  8]\n"
     ]
    },
    {
     "data": {
      "image/png": "[encoded data removed]",
      "text/plain": [
       "<Figure size 432x288 with 1 Axes>"
      ]
     },
     "metadata": {
      "needs_background": "light"
     },
     "output_type": "display_data"
    },
    {
     "name": "stdout",
     "output_type": "stream",
     "text": [
      "Real Label :  [0]\n",
      "Predicted Label :  1\n",
      "Target Criteria :  18\n",
      "Ligand Criteria :  [49  5]\n"
     ]
    },
    {
     "data": {
      "image/png": "[encoded data removed]",
      "text/plain": [
       "<Figure size 432x288 with 1 Axes>"
      ]
     },
     "metadata": {
      "needs_background": "light"
     },
     "output_type": "display_data"
    },
    {
     "name": "stdout",
     "output_type": "stream",
     "text": [
      "Real Label :  [0]\n",
      "Predicted Label :  1\n",
      "Target Criteria :  10\n",
      "Ligand Criteria :  [15 14]\n"
     ]
    },
    {
     "data": {
      "image/png": "[encoded data removed]",
      "text/plain": [
       "<Figure size 432x288 with 1 Axes>"
      ]
     },
     "metadata": {
      "needs_background": "light"
     },
     "output_type": "display_data"
    },
    {
     "name": "stdout",
     "output_type": "stream",
     "text": [
      "Real Label :  [0]\n",
      "Predicted Label :  1\n",
      "Target Criteria :  33\n",
      "Ligand Criteria :  [21 24]\n"
     ]
    },
    {
     "data": {
      "image/png": "[encoded data removed]",
      "text/plain": [
       "<Figure size 432x288 with 1 Axes>"
      ]
     },
     "metadata": {
      "needs_background": "light"
     },
     "output_type": "display_data"
    },
    {
     "name": "stdout",
     "output_type": "stream",
     "text": [
      "Real Label :  [0]\n",
      "Predicted Label :  1\n",
      "Target Criteria :  25\n",
      "Ligand Criteria :  [ 9 10]\n"
     ]
    },
    {
     "data": {
      "image/png": "[encoded data removed]",
      "text/plain": [
       "<Figure size 432x288 with 1 Axes>"
      ]
     },
     "metadata": {
      "needs_background": "light"
     },
     "output_type": "display_data"
    },
    {
     "name": "stdout",
     "output_type": "stream",
     "text": [
      "Real Label :  [0]\n",
      "Predicted Label :  1\n",
      "Target Criteria :  28\n",
      "Ligand Criteria :  [ 9 23]\n"
     ]
    },
    {
     "data": {
      "image/png": "[encoded data removed]",
      "text/plain": [
       "<Figure size 432x288 with 1 Axes>"
      ]
     },
     "metadata": {
      "needs_background": "light"
     },
     "output_type": "display_data"
    },
    {
     "name": "stdout",
     "output_type": "stream",
     "text": [
      "Real Label :  [0]\n",
      "Predicted Label :  1\n",
      "Target Criteria :  28\n",
      "Ligand Criteria :  [30 28]\n"
     ]
    },
    {
     "data": {
      "image/png": "[encoded data removed]",
      "text/plain": [
       "<Figure size 432x288 with 1 Axes>"
      ]
     },
     "metadata": {
      "needs_background": "light"
     },
     "output_type": "display_data"
    },
    {
     "name": "stdout",
     "output_type": "stream",
     "text": [
      "Real Label :  [0]\n",
      "Predicted Label :  1\n",
      "Target Criteria :  9\n",
      "Ligand Criteria :  [27 21]\n"
     ]
    }
   ],
   "source": [
    "for k, idx in enumerate(indices_incorrect_predictions_in_train):\n",
    "    plt.imshow(train_images[idx,:,:,0])\n",
    "    plt.show()\n",
    "    print('Real Label : ', train_labels[idx])\n",
    "    print('Predicted Label : ', Predictions_train[idx])\n",
    "    print('Target Criteria : ', train_target_criteria[idx])\n",
    "    print('Ligand Criteria : ', train_ligand_criteria[idx])\n",
    "    if k > 30:\n",
    "        break"
   ]
  },
  {
   "cell_type": "code",
   "execution_count": null,
   "metadata": {},
   "outputs": [],
   "source": []
  },
  {
   "cell_type": "code",
   "execution_count": null,
   "metadata": {},
   "outputs": [],
   "source": []
  },
  {
   "cell_type": "code",
   "execution_count": null,
   "metadata": {},
   "outputs": [],
   "source": [
    "Predictions_test = model.predict_classes(test_images)"
   ]
  },
  {
   "cell_type": "code",
   "execution_count": null,
   "metadata": {},
   "outputs": [],
   "source": [
    "indices_incorrect_predictions_in_test = [i for i, x in enumerate(list(Predictions_test == test_labels.reshape(len(test_labels)))) if x == False ]\n",
    "print(\"Total Number of Incorrect Predictions among Test data : \", len(indices_incorrect_predictions_in_test))"
   ]
  },
  {
   "cell_type": "code",
   "execution_count": null,
   "metadata": {},
   "outputs": [],
   "source": [
    "for k, idx in enumerate(indices_incorrect_predictions_in_test):\n",
    "    plt.imshow(test_images[idx,:,:,0])\n",
    "    plt.show()\n",
    "    print('Real Label : ', test_labels[idx])\n",
    "    print('Predicted Label : ', Predictions_test[idx])\n",
    "    print('Target Criteria : ', test_target_criteria[idx])\n",
    "    print('Ligand Criteria : ', test_ligand_criteria[idx])\n",
    "    #if k > 30:\n",
    "    #    break"
   ]
  },
  {
   "cell_type": "code",
   "execution_count": null,
   "metadata": {},
   "outputs": [],
   "source": [
    "ls = ['a', 'b', 'c']\n",
    "for i, s in enumerate(ls):\n",
    "    print(i, s)"
   ]
  },
  {
   "cell_type": "code",
   "execution_count": null,
   "metadata": {},
   "outputs": [],
   "source": [
    "ls[0]"
   ]
  },
  {
   "cell_type": "code",
   "execution_count": null,
   "metadata": {},
   "outputs": [],
   "source": []
  },
  {
   "cell_type": "code",
   "execution_count": null,
   "metadata": {},
   "outputs": [],
   "source": []
  },
  {
   "cell_type": "code",
   "execution_count": null,
   "metadata": {},
   "outputs": [],
   "source": [
    "idx = indices_incorrect_predictions_in_train[0]\n",
    "plt.imshow(train_images[idx,:,:,0])\n",
    "print('Real Label : ', train_labels[idx])\n",
    "print('Predicted Label : ', Predictions_train[idx])"
   ]
  },
  {
   "cell_type": "code",
   "execution_count": null,
   "metadata": {},
   "outputs": [],
   "source": [
    "idx = indices_incorrect_predictions_in_train[1]\n",
    "plt.imshow(train_images[idx,:,:,0])\n",
    "print('Real Label : ', train_labels[idx])\n",
    "print('Predicted Label : ', Predictions_train[idx])"
   ]
  },
  {
   "cell_type": "code",
   "execution_count": null,
   "metadata": {},
   "outputs": [],
   "source": []
  },
  {
   "cell_type": "code",
   "execution_count": null,
   "metadata": {},
   "outputs": [],
   "source": [
    "for _, idx in enumerate(indices_incorrect_predictions_in_train):\n",
    "    plt.imshow(train_images[idx,:,:,0])\n",
    "    print('Real Label : ', train_labels[idx])\n",
    "    print('Predicted Label : ', Predictions_train[idx])"
   ]
  },
  {
   "cell_type": "code",
   "execution_count": null,
   "metadata": {},
   "outputs": [],
   "source": []
  },
  {
   "cell_type": "code",
   "execution_count": null,
   "metadata": {},
   "outputs": [],
   "source": []
  },
  {
   "cell_type": "code",
   "execution_count": null,
   "metadata": {},
   "outputs": [],
   "source": []
  },
  {
   "cell_type": "code",
   "execution_count": null,
   "metadata": {},
   "outputs": [],
   "source": []
  },
  {
   "cell_type": "code",
   "execution_count": null,
   "metadata": {},
   "outputs": [],
   "source": []
  },
  {
   "cell_type": "code",
   "execution_count": null,
   "metadata": {},
   "outputs": [],
   "source": []
  },
  {
   "cell_type": "code",
   "execution_count": null,
   "metadata": {},
   "outputs": [],
   "source": [
    "plt.figure()\n",
    "plt.imshow(train_images[1,:,:,0])\n",
    "plt.grid(False)\n",
    "plt.show()"
   ]
  },
  {
   "cell_type": "code",
   "execution_count": null,
   "metadata": {
    "scrolled": true
   },
   "outputs": [],
   "source": [
    "plt.figure(figsize=(10,10))\n",
    "for i in range(25):\n",
    "    plt.subplot(5,5,i+1)\n",
    "    plt.xticks([])\n",
    "    plt.yticks([])\n",
    "    plt.grid(False)\n",
    "    plt.imshow(train_images[i,:,:,0], cmap=plt.cm.binary)\n",
    "    plt.xlabel(class_names[train_labels[i]])\n",
    "plt.show()"
   ]
  },
  {
   "cell_type": "code",
   "execution_count": null,
   "metadata": {},
   "outputs": [],
   "source": [
    "predictions = model.predict(test_images)"
   ]
  },
  {
   "cell_type": "code",
   "execution_count": null,
   "metadata": {},
   "outputs": [],
   "source": [
    "def plot_image(i, predictions_array, true_label, img):\n",
    "  predictions_array, true_label, img = predictions_array[i], true_label[i], img[i,:,:,0]\n",
    "  plt.grid(False)\n",
    "  plt.xticks([])\n",
    "  plt.yticks([])\n",
    "  \n",
    "  plt.imshow(img, cmap=plt.cm.binary)\n",
    "\n",
    "  predicted_label = np.argmax(predictions_array)\n",
    "  if predicted_label == true_label:\n",
    "    color = 'blue'\n",
    "  else:\n",
    "    color = 'red'\n",
    "  \n",
    "  plt.xlabel(\"{} {:2.0f}% ({})\".format(class_names[predicted_label],\n",
    "                                100*np.max(predictions_array),\n",
    "                                class_names[true_label]),\n",
    "                                color=color)\n",
    "\n",
    "def plot_value_array(i, predictions_array, true_label):\n",
    "  predictions_array, true_label = predictions_array[i], true_label[i]\n",
    "  plt.grid(False)\n",
    "  plt.xticks([])\n",
    "  plt.yticks([])\n",
    "  thisplot = plt.bar(range(2), predictions_array, color=\"#777777\")\n",
    "  plt.ylim([0, 1]) \n",
    "  predicted_label = np.argmax(predictions_array)\n",
    " \n",
    "  thisplot[predicted_label].set_color('red')\n",
    "  thisplot[true_label].set_color('blue')"
   ]
  },
  {
   "cell_type": "code",
   "execution_count": null,
   "metadata": {},
   "outputs": [],
   "source": [
    "i = 0\n",
    "plt.figure(figsize=(6,3))\n",
    "plt.subplot(1,2,1)\n",
    "plot_image(i, predictions, test_labels, test_images)\n",
    "plt.subplot(1,2,2)\n",
    "plot_value_array(i, predictions,  test_labels)\n",
    "plt.show()"
   ]
  },
  {
   "cell_type": "code",
   "execution_count": null,
   "metadata": {},
   "outputs": [],
   "source": [
    "i = 12\n",
    "plt.figure(figsize=(6,3))\n",
    "plt.subplot(1,2,1)\n",
    "plot_image(i, predictions, test_labels, test_images)\n",
    "plt.subplot(1,2,2)\n",
    "plot_value_array(i, predictions,  test_labels)\n",
    "plt.show()"
   ]
  },
  {
   "cell_type": "code",
   "execution_count": null,
   "metadata": {},
   "outputs": [],
   "source": [
    "# Plot the first X test images, their predicted label, and the true label\n",
    "# Color correct predictions in blue, incorrect predictions in red\n",
    "num_rows = 5\n",
    "num_cols = 3\n",
    "num_images = num_rows*num_cols\n",
    "plt.figure(figsize=(2*2*num_cols, 2*num_rows))\n",
    "for i in range(num_images):\n",
    "  plt.subplot(num_rows, 2*num_cols, 2*i+1)\n",
    "  plot_image(i, predictions, test_labels, test_images)\n",
    "  plt.subplot(num_rows, 2*num_cols, 2*i+2)\n",
    "  plot_value_array(i, predictions, test_labels)\n",
    "plt.show()"
   ]
  },
  {
   "cell_type": "code",
   "execution_count": null,
   "metadata": {},
   "outputs": [],
   "source": [
    "img = test_images[0]\n",
    "\n",
    "print(img.shape)"
   ]
  },
  {
   "cell_type": "code",
   "execution_count": null,
   "metadata": {},
   "outputs": [],
   "source": [
    "img = (np.expand_dims(img,0))\n",
    "\n",
    "print(img.shape)"
   ]
  },
  {
   "cell_type": "code",
   "execution_count": null,
   "metadata": {},
   "outputs": [],
   "source": [
    "predictions_single = model.predict(img)\n",
    "\n",
    "print(predictions_single)"
   ]
  },
  {
   "cell_type": "code",
   "execution_count": null,
   "metadata": {},
   "outputs": [],
   "source": [
    "plot_value_array(0, predictions_single, test_labels)\n",
    "_ = plt.xticks(range(10), class_names, rotation=45)"
   ]
  },
  {
   "cell_type": "code",
   "execution_count": null,
   "metadata": {},
   "outputs": [],
   "source": [
    "np.argmax(predictions_single[0])"
   ]
  },
  {
   "cell_type": "code",
   "execution_count": null,
   "metadata": {},
   "outputs": [],
   "source": []
  },
  {
   "cell_type": "code",
   "execution_count": null,
   "metadata": {},
   "outputs": [],
   "source": []
  }
 ],
 "metadata": {
  "kernelspec": {
   "display_name": "Python 3",
   "language": "python",
   "name": "python3"
  },
  "language_info": {
   "codemirror_mode": {
    "name": "ipython",
    "version": 3
   },
   "file_extension": ".py",
   "mimetype": "text/x-python",
   "name": "python",
   "nbconvert_exporter": "python",
   "pygments_lexer": "ipython3",
   "version": "3.6.5"
  }
 },
 "nbformat": 4,
 "nbformat_minor": 2
}
